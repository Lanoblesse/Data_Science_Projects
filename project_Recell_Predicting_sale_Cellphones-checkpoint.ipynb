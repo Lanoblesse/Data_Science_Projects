{
 "cells": [
  {
   "cell_type": "markdown",
   "metadata": {
    "id": "GrSkDfGgDu3F"
   },
   "source": [
    "# Supervised Learning - Foundations Project: ReCell "
   ]
  },
  {
   "cell_type": "markdown",
   "metadata": {
    "id": "W_Ho8VGKDu3S"
   },
   "source": [
    "## Problem Statement"
   ]
  },
  {
   "cell_type": "markdown",
   "metadata": {
    "id": "RA_GXJwuhmVz"
   },
   "source": [
    "### Business Context\n",
    "\n",
    "Buying and selling used phones and tablets used to be something that happened on a handful of online marketplace sites. But the used and refurbished device market has grown considerably over the past decade, and a new IDC (International Data Corporation) forecast predicts that the used phone market would be worth \\\\$52.7bn by 2023 with a compound annual growth rate (CAGR) of 13.6% from 2018 to 2023. This growth can be attributed to an uptick in demand for used phones and tablets that offer considerable savings compared with new models.\n",
    "\n",
    "Refurbished and used devices continue to provide cost-effective alternatives to both consumers and businesses that are looking to save money when purchasing one. There are plenty of other benefits associated with the used device market. Used and refurbished devices can be sold with warranties and can also be insured with proof of purchase. Third-party vendors/platforms, such as Verizon, Amazon, etc., provide attractive offers to customers for refurbished devices. Maximizing the longevity of devices through second-hand trade also reduces their environmental impact and helps in recycling and reducing waste. The impact of the COVID-19 outbreak may further boost this segment as consumers cut back on discretionary spending and buy phones and tablets only for immediate needs.\n",
    "\n",
    " \n",
    "### Objective\n",
    "\n",
    "The rising potential of this comparatively under-the-radar market fuels the need for an ML-based solution to develop a dynamic pricing strategy for used and refurbished devices. ReCell, a startup aiming to tap the potential in this market, has hired you as a data scientist. They want you to analyze the data provided and build a linear regression model to predict the price of a used phone/tablet and identify factors that significantly influence it.\n",
    "\n",
    " \n",
    "### Data Description\n",
    "\n",
    "The data contains the different attributes of used/refurbished phones and tablets. The data was collected in the year 2021. The detailed data dictionary is given below.\n",
    "\n",
    "\n",
    "- brand_name: Name of manufacturing brand\n",
    "- os: OS on which the device runs\n",
    "- screen_size: Size of the screen in cm\n",
    "- 4g: Whether 4G is available or not\n",
    "- 5g: Whether 5G is available or not\n",
    "- main_camera_mp: Resolution of the rear camera in megapixels\n",
    "- selfie_camera_mp: Resolution of the front camera in megapixels\n",
    "- int_memory: Amount of internal memory (ROM) in GB\n",
    "- ram: Amount of RAM in GB\n",
    "- battery: Energy capacity of the device battery in mAh\n",
    "- weight: Weight of the device in grams\n",
    "- release_year: Year when the device model was released\n",
    "- days_used: Number of days the used/refurbished device has been used\n",
    "- normalized_new_price: Normalized price of a new device of the same model in euros\n",
    "- normalized_used_price: Normalized price of the used/refurbished device in euros"
   ]
  },
  {
   "cell_type": "markdown",
   "metadata": {
    "id": "-xIMk1hXrabC"
   },
   "source": [
    "## **Please read the instructions carefully before starting the project.** \n",
    "\n",
    "This is a commented Python Notebook file in which all the instructions and tasks to be performed are mentioned. \n",
    "\n",
    "* Blanks '_______' are provided in the notebook that need to be filled with an appropriate code to get the correct result\n",
    "\n",
    "* With every '_______' blank, there is a comment that briefly describes what needs to be filled in the blank space\n",
    "\n",
    "* Identify the task to be performed correctly and only then proceed to write the required code\n",
    "\n",
    "* Fill the code wherever asked by the commented lines like \"# write your code here\" or \"# complete the code\"\n",
    "\n",
    "* Running incomplete code may throw an error\n",
    "\n",
    "* Please run the codes in a sequential manner from the beginning to avoid any unnecessary errors\n",
    "\n",
    "\n",
    "* Add the results/observations derived from the analysis in the presentation and submit the same in .pdf format"
   ]
  },
  {
   "cell_type": "markdown",
   "metadata": {
    "id": "v_-uuGqH-qTt"
   },
   "source": [
    "## Importing necessary libraries"
   ]
  },
  {
   "cell_type": "code",
   "execution_count": 147,
   "metadata": {
    "id": "zeF8YaNKDPyK"
   },
   "outputs": [],
   "source": [
    "# this will help in making the Python code more structured automatically (good coding practice)\n",
    "#pipinstall nb-black \n",
    "#%load_ext nb_black\n",
    "\n",
    "# Libraries to help with reading and manipulating data\n",
    "import numpy as np\n",
    "import pandas as pd\n",
    "\n",
    "# Libraries to help with data visualization\n",
    "import matplotlib.pyplot as plt\n",
    "import seaborn as sns\n",
    "\n",
    "sns.set()\n",
    "\n",
    "# split the data into train and test\n",
    "from sklearn.model_selection import train_test_split\n",
    "\n",
    "# to build linear regression_model\n",
    "from sklearn.linear_model import LinearRegression\n",
    "\n",
    "# to check model performance\n",
    "from sklearn.metrics import mean_absolute_error, mean_squared_error, r2_score\n",
    "\n",
    "# to build linear regression_model using statsmodels\n",
    "import statsmodels.api as sm\n",
    "\n",
    "# to compute VIF\n",
    "from statsmodels.stats.outliers_influence import variance_inflation_factor"
   ]
  },
  {
   "cell_type": "markdown",
   "metadata": {
    "id": "xxhpZv9y-qTw"
   },
   "source": [
    "## Loading the dataset"
   ]
  },
  {
   "cell_type": "code",
   "execution_count": 146,
   "metadata": {
    "id": "D4id2YLjhmV3"
   },
   "outputs": [],
   "source": [
    "# loading data\n",
    "data = pd.read_csv('used_device_data.csv')# the code to read the data"
   ]
  },
  {
   "cell_type": "markdown",
   "metadata": {
    "id": "aodMV5D3-qTy"
   },
   "source": [
    "## Data Overview"
   ]
  },
  {
   "cell_type": "markdown",
   "metadata": {
    "id": "W-5jUOgu-qTz"
   },
   "source": [
    "The initial steps to get an overview of any dataset is to: \n",
    "- observe the first few rows of the dataset, to check whether the dataset has been loaded properly or not\n",
    "- get information about the number of rows and columns in the dataset\n",
    "- find out the data types of the columns to ensure that data is stored in the preferred format and the value of each property is as expected.\n",
    "- check the statistical summary of the dataset to get an overview of the numerical columns of the data"
   ]
  },
  {
   "cell_type": "markdown",
   "metadata": {
    "id": "qlzqMR1K-qTz"
   },
   "source": [
    "### Displaying the first few rows of the dataset"
   ]
  },
  {
   "cell_type": "code",
   "execution_count": 148,
   "metadata": {
    "id": "aNvXgPEhWaLv"
   },
   "outputs": [
    {
     "data": {
      "text/html": [
       "<div>\n",
       "<style scoped>\n",
       "    .dataframe tbody tr th:only-of-type {\n",
       "        vertical-align: middle;\n",
       "    }\n",
       "\n",
       "    .dataframe tbody tr th {\n",
       "        vertical-align: top;\n",
       "    }\n",
       "\n",
       "    .dataframe thead th {\n",
       "        text-align: right;\n",
       "    }\n",
       "</style>\n",
       "<table border=\"1\" class=\"dataframe\">\n",
       "  <thead>\n",
       "    <tr style=\"text-align: right;\">\n",
       "      <th></th>\n",
       "      <th>brand_name</th>\n",
       "      <th>os</th>\n",
       "      <th>screen_size</th>\n",
       "      <th>4g</th>\n",
       "      <th>5g</th>\n",
       "      <th>main_camera_mp</th>\n",
       "      <th>selfie_camera_mp</th>\n",
       "      <th>int_memory</th>\n",
       "      <th>ram</th>\n",
       "      <th>battery</th>\n",
       "      <th>weight</th>\n",
       "      <th>release_year</th>\n",
       "      <th>days_used</th>\n",
       "      <th>normalized_used_price</th>\n",
       "      <th>normalized_new_price</th>\n",
       "    </tr>\n",
       "  </thead>\n",
       "  <tbody>\n",
       "    <tr>\n",
       "      <th>0</th>\n",
       "      <td>Honor</td>\n",
       "      <td>Android</td>\n",
       "      <td>14.50</td>\n",
       "      <td>yes</td>\n",
       "      <td>no</td>\n",
       "      <td>13.0</td>\n",
       "      <td>5.0</td>\n",
       "      <td>64.0</td>\n",
       "      <td>3.0</td>\n",
       "      <td>3020.0</td>\n",
       "      <td>146.0</td>\n",
       "      <td>2020</td>\n",
       "      <td>127</td>\n",
       "      <td>4.307572</td>\n",
       "      <td>4.715100</td>\n",
       "    </tr>\n",
       "    <tr>\n",
       "      <th>1</th>\n",
       "      <td>Honor</td>\n",
       "      <td>Android</td>\n",
       "      <td>17.30</td>\n",
       "      <td>yes</td>\n",
       "      <td>yes</td>\n",
       "      <td>13.0</td>\n",
       "      <td>16.0</td>\n",
       "      <td>128.0</td>\n",
       "      <td>8.0</td>\n",
       "      <td>4300.0</td>\n",
       "      <td>213.0</td>\n",
       "      <td>2020</td>\n",
       "      <td>325</td>\n",
       "      <td>5.162097</td>\n",
       "      <td>5.519018</td>\n",
       "    </tr>\n",
       "    <tr>\n",
       "      <th>2</th>\n",
       "      <td>Honor</td>\n",
       "      <td>Android</td>\n",
       "      <td>16.69</td>\n",
       "      <td>yes</td>\n",
       "      <td>yes</td>\n",
       "      <td>13.0</td>\n",
       "      <td>8.0</td>\n",
       "      <td>128.0</td>\n",
       "      <td>8.0</td>\n",
       "      <td>4200.0</td>\n",
       "      <td>213.0</td>\n",
       "      <td>2020</td>\n",
       "      <td>162</td>\n",
       "      <td>5.111084</td>\n",
       "      <td>5.884631</td>\n",
       "    </tr>\n",
       "    <tr>\n",
       "      <th>3</th>\n",
       "      <td>Honor</td>\n",
       "      <td>Android</td>\n",
       "      <td>25.50</td>\n",
       "      <td>yes</td>\n",
       "      <td>yes</td>\n",
       "      <td>13.0</td>\n",
       "      <td>8.0</td>\n",
       "      <td>64.0</td>\n",
       "      <td>6.0</td>\n",
       "      <td>7250.0</td>\n",
       "      <td>480.0</td>\n",
       "      <td>2020</td>\n",
       "      <td>345</td>\n",
       "      <td>5.135387</td>\n",
       "      <td>5.630961</td>\n",
       "    </tr>\n",
       "    <tr>\n",
       "      <th>4</th>\n",
       "      <td>Honor</td>\n",
       "      <td>Android</td>\n",
       "      <td>15.32</td>\n",
       "      <td>yes</td>\n",
       "      <td>no</td>\n",
       "      <td>13.0</td>\n",
       "      <td>8.0</td>\n",
       "      <td>64.0</td>\n",
       "      <td>3.0</td>\n",
       "      <td>5000.0</td>\n",
       "      <td>185.0</td>\n",
       "      <td>2020</td>\n",
       "      <td>293</td>\n",
       "      <td>4.389995</td>\n",
       "      <td>4.947837</td>\n",
       "    </tr>\n",
       "  </tbody>\n",
       "</table>\n",
       "</div>"
      ],
      "text/plain": [
       "  brand_name       os  screen_size   4g   5g  main_camera_mp  \\\n",
       "0      Honor  Android        14.50  yes   no            13.0   \n",
       "1      Honor  Android        17.30  yes  yes            13.0   \n",
       "2      Honor  Android        16.69  yes  yes            13.0   \n",
       "3      Honor  Android        25.50  yes  yes            13.0   \n",
       "4      Honor  Android        15.32  yes   no            13.0   \n",
       "\n",
       "   selfie_camera_mp  int_memory  ram  battery  weight  release_year  \\\n",
       "0               5.0        64.0  3.0   3020.0   146.0          2020   \n",
       "1              16.0       128.0  8.0   4300.0   213.0          2020   \n",
       "2               8.0       128.0  8.0   4200.0   213.0          2020   \n",
       "3               8.0        64.0  6.0   7250.0   480.0          2020   \n",
       "4               8.0        64.0  3.0   5000.0   185.0          2020   \n",
       "\n",
       "   days_used  normalized_used_price  normalized_new_price  \n",
       "0        127               4.307572              4.715100  \n",
       "1        325               5.162097              5.519018  \n",
       "2        162               5.111084              5.884631  \n",
       "3        345               5.135387              5.630961  \n",
       "4        293               4.389995              4.947837  "
      ]
     },
     "execution_count": 148,
     "metadata": {},
     "output_type": "execute_result"
    }
   ],
   "source": [
    "data.head()"
   ]
  },
  {
   "cell_type": "markdown",
   "metadata": {
    "id": "KQi5ygTC-qT1"
   },
   "source": [
    "### Checking the shape of the dataset"
   ]
  },
  {
   "cell_type": "code",
   "execution_count": 12,
   "metadata": {
    "id": "VsQmSVQDWdQB"
   },
   "outputs": [
    {
     "data": {
      "text/plain": [
       "(3454, 15)"
      ]
     },
     "execution_count": 12,
     "metadata": {},
     "output_type": "execute_result"
    }
   ],
   "source": [
    "data.shape # the code to get the shape of data"
   ]
  },
  {
   "cell_type": "markdown",
   "metadata": {
    "id": "5TcqcxbK-qT3"
   },
   "source": [
    "### Checking the data types of the columns for the dataset"
   ]
  },
  {
   "cell_type": "code",
   "execution_count": 13,
   "metadata": {
    "id": "4sMqr8mnWf2v"
   },
   "outputs": [
    {
     "name": "stdout",
     "output_type": "stream",
     "text": [
      "<class 'pandas.core.frame.DataFrame'>\n",
      "RangeIndex: 3454 entries, 0 to 3453\n",
      "Data columns (total 15 columns):\n",
      " #   Column                 Non-Null Count  Dtype  \n",
      "---  ------                 --------------  -----  \n",
      " 0   brand_name             3454 non-null   object \n",
      " 1   os                     3454 non-null   object \n",
      " 2   screen_size            3454 non-null   float64\n",
      " 3   4g                     3454 non-null   object \n",
      " 4   5g                     3454 non-null   object \n",
      " 5   main_camera_mp         3275 non-null   float64\n",
      " 6   selfie_camera_mp       3452 non-null   float64\n",
      " 7   int_memory             3450 non-null   float64\n",
      " 8   ram                    3450 non-null   float64\n",
      " 9   battery                3448 non-null   float64\n",
      " 10  weight                 3447 non-null   float64\n",
      " 11  release_year           3454 non-null   int64  \n",
      " 12  days_used              3454 non-null   int64  \n",
      " 13  normalized_used_price  3454 non-null   float64\n",
      " 14  normalized_new_price   3454 non-null   float64\n",
      "dtypes: float64(9), int64(2), object(4)\n",
      "memory usage: 404.9+ KB\n"
     ]
    }
   ],
   "source": [
    "data.info()"
   ]
  },
  {
   "cell_type": "markdown",
   "metadata": {
    "id": "nUCorhch-qT4"
   },
   "source": [
    "### Statistical summary of the dataset"
   ]
  },
  {
   "cell_type": "code",
   "execution_count": 20,
   "metadata": {
    "id": "yXcbwEJcWWWI"
   },
   "outputs": [
    {
     "data": {
      "text/html": [
       "<div>\n",
       "<style scoped>\n",
       "    .dataframe tbody tr th:only-of-type {\n",
       "        vertical-align: middle;\n",
       "    }\n",
       "\n",
       "    .dataframe tbody tr th {\n",
       "        vertical-align: top;\n",
       "    }\n",
       "\n",
       "    .dataframe thead th {\n",
       "        text-align: right;\n",
       "    }\n",
       "</style>\n",
       "<table border=\"1\" class=\"dataframe\">\n",
       "  <thead>\n",
       "    <tr style=\"text-align: right;\">\n",
       "      <th></th>\n",
       "      <th>count</th>\n",
       "      <th>unique</th>\n",
       "      <th>top</th>\n",
       "      <th>freq</th>\n",
       "      <th>mean</th>\n",
       "      <th>std</th>\n",
       "      <th>min</th>\n",
       "      <th>25%</th>\n",
       "      <th>50%</th>\n",
       "      <th>75%</th>\n",
       "      <th>max</th>\n",
       "    </tr>\n",
       "  </thead>\n",
       "  <tbody>\n",
       "    <tr>\n",
       "      <th>brand_name</th>\n",
       "      <td>3454</td>\n",
       "      <td>34</td>\n",
       "      <td>Others</td>\n",
       "      <td>502</td>\n",
       "      <td>NaN</td>\n",
       "      <td>NaN</td>\n",
       "      <td>NaN</td>\n",
       "      <td>NaN</td>\n",
       "      <td>NaN</td>\n",
       "      <td>NaN</td>\n",
       "      <td>NaN</td>\n",
       "    </tr>\n",
       "    <tr>\n",
       "      <th>os</th>\n",
       "      <td>3454</td>\n",
       "      <td>4</td>\n",
       "      <td>Android</td>\n",
       "      <td>3214</td>\n",
       "      <td>NaN</td>\n",
       "      <td>NaN</td>\n",
       "      <td>NaN</td>\n",
       "      <td>NaN</td>\n",
       "      <td>NaN</td>\n",
       "      <td>NaN</td>\n",
       "      <td>NaN</td>\n",
       "    </tr>\n",
       "    <tr>\n",
       "      <th>screen_size</th>\n",
       "      <td>3454.0</td>\n",
       "      <td>NaN</td>\n",
       "      <td>NaN</td>\n",
       "      <td>NaN</td>\n",
       "      <td>13.713115</td>\n",
       "      <td>3.80528</td>\n",
       "      <td>5.08</td>\n",
       "      <td>12.7</td>\n",
       "      <td>12.83</td>\n",
       "      <td>15.34</td>\n",
       "      <td>30.71</td>\n",
       "    </tr>\n",
       "    <tr>\n",
       "      <th>4g</th>\n",
       "      <td>3454</td>\n",
       "      <td>2</td>\n",
       "      <td>yes</td>\n",
       "      <td>2335</td>\n",
       "      <td>NaN</td>\n",
       "      <td>NaN</td>\n",
       "      <td>NaN</td>\n",
       "      <td>NaN</td>\n",
       "      <td>NaN</td>\n",
       "      <td>NaN</td>\n",
       "      <td>NaN</td>\n",
       "    </tr>\n",
       "    <tr>\n",
       "      <th>5g</th>\n",
       "      <td>3454</td>\n",
       "      <td>2</td>\n",
       "      <td>no</td>\n",
       "      <td>3302</td>\n",
       "      <td>NaN</td>\n",
       "      <td>NaN</td>\n",
       "      <td>NaN</td>\n",
       "      <td>NaN</td>\n",
       "      <td>NaN</td>\n",
       "      <td>NaN</td>\n",
       "      <td>NaN</td>\n",
       "    </tr>\n",
       "    <tr>\n",
       "      <th>main_camera_mp</th>\n",
       "      <td>3275.0</td>\n",
       "      <td>NaN</td>\n",
       "      <td>NaN</td>\n",
       "      <td>NaN</td>\n",
       "      <td>9.460208</td>\n",
       "      <td>4.815461</td>\n",
       "      <td>0.08</td>\n",
       "      <td>5.0</td>\n",
       "      <td>8.0</td>\n",
       "      <td>13.0</td>\n",
       "      <td>48.0</td>\n",
       "    </tr>\n",
       "    <tr>\n",
       "      <th>selfie_camera_mp</th>\n",
       "      <td>3452.0</td>\n",
       "      <td>NaN</td>\n",
       "      <td>NaN</td>\n",
       "      <td>NaN</td>\n",
       "      <td>6.554229</td>\n",
       "      <td>6.970372</td>\n",
       "      <td>0.0</td>\n",
       "      <td>2.0</td>\n",
       "      <td>5.0</td>\n",
       "      <td>8.0</td>\n",
       "      <td>32.0</td>\n",
       "    </tr>\n",
       "    <tr>\n",
       "      <th>int_memory</th>\n",
       "      <td>3450.0</td>\n",
       "      <td>NaN</td>\n",
       "      <td>NaN</td>\n",
       "      <td>NaN</td>\n",
       "      <td>54.573099</td>\n",
       "      <td>84.972371</td>\n",
       "      <td>0.01</td>\n",
       "      <td>16.0</td>\n",
       "      <td>32.0</td>\n",
       "      <td>64.0</td>\n",
       "      <td>1024.0</td>\n",
       "    </tr>\n",
       "    <tr>\n",
       "      <th>ram</th>\n",
       "      <td>3450.0</td>\n",
       "      <td>NaN</td>\n",
       "      <td>NaN</td>\n",
       "      <td>NaN</td>\n",
       "      <td>4.036122</td>\n",
       "      <td>1.365105</td>\n",
       "      <td>0.02</td>\n",
       "      <td>4.0</td>\n",
       "      <td>4.0</td>\n",
       "      <td>4.0</td>\n",
       "      <td>12.0</td>\n",
       "    </tr>\n",
       "    <tr>\n",
       "      <th>battery</th>\n",
       "      <td>3448.0</td>\n",
       "      <td>NaN</td>\n",
       "      <td>NaN</td>\n",
       "      <td>NaN</td>\n",
       "      <td>3133.402697</td>\n",
       "      <td>1299.682844</td>\n",
       "      <td>500.0</td>\n",
       "      <td>2100.0</td>\n",
       "      <td>3000.0</td>\n",
       "      <td>4000.0</td>\n",
       "      <td>9720.0</td>\n",
       "    </tr>\n",
       "    <tr>\n",
       "      <th>weight</th>\n",
       "      <td>3447.0</td>\n",
       "      <td>NaN</td>\n",
       "      <td>NaN</td>\n",
       "      <td>NaN</td>\n",
       "      <td>182.751871</td>\n",
       "      <td>88.413228</td>\n",
       "      <td>69.0</td>\n",
       "      <td>142.0</td>\n",
       "      <td>160.0</td>\n",
       "      <td>185.0</td>\n",
       "      <td>855.0</td>\n",
       "    </tr>\n",
       "    <tr>\n",
       "      <th>release_year</th>\n",
       "      <td>3454.0</td>\n",
       "      <td>NaN</td>\n",
       "      <td>NaN</td>\n",
       "      <td>NaN</td>\n",
       "      <td>2015.965258</td>\n",
       "      <td>2.298455</td>\n",
       "      <td>2013.0</td>\n",
       "      <td>2014.0</td>\n",
       "      <td>2015.5</td>\n",
       "      <td>2018.0</td>\n",
       "      <td>2020.0</td>\n",
       "    </tr>\n",
       "    <tr>\n",
       "      <th>days_used</th>\n",
       "      <td>3454.0</td>\n",
       "      <td>NaN</td>\n",
       "      <td>NaN</td>\n",
       "      <td>NaN</td>\n",
       "      <td>674.869716</td>\n",
       "      <td>248.580166</td>\n",
       "      <td>91.0</td>\n",
       "      <td>533.5</td>\n",
       "      <td>690.5</td>\n",
       "      <td>868.75</td>\n",
       "      <td>1094.0</td>\n",
       "    </tr>\n",
       "    <tr>\n",
       "      <th>normalized_used_price</th>\n",
       "      <td>3454.0</td>\n",
       "      <td>NaN</td>\n",
       "      <td>NaN</td>\n",
       "      <td>NaN</td>\n",
       "      <td>4.364712</td>\n",
       "      <td>0.588914</td>\n",
       "      <td>1.536867</td>\n",
       "      <td>4.033931</td>\n",
       "      <td>4.405133</td>\n",
       "      <td>4.7557</td>\n",
       "      <td>6.619433</td>\n",
       "    </tr>\n",
       "    <tr>\n",
       "      <th>normalized_new_price</th>\n",
       "      <td>3454.0</td>\n",
       "      <td>NaN</td>\n",
       "      <td>NaN</td>\n",
       "      <td>NaN</td>\n",
       "      <td>5.233107</td>\n",
       "      <td>0.683637</td>\n",
       "      <td>2.901422</td>\n",
       "      <td>4.790342</td>\n",
       "      <td>5.245892</td>\n",
       "      <td>5.673718</td>\n",
       "      <td>7.847841</td>\n",
       "    </tr>\n",
       "  </tbody>\n",
       "</table>\n",
       "</div>"
      ],
      "text/plain": [
       "                        count unique      top  freq         mean          std  \\\n",
       "brand_name               3454     34   Others   502          NaN          NaN   \n",
       "os                       3454      4  Android  3214          NaN          NaN   \n",
       "screen_size            3454.0    NaN      NaN   NaN    13.713115      3.80528   \n",
       "4g                       3454      2      yes  2335          NaN          NaN   \n",
       "5g                       3454      2       no  3302          NaN          NaN   \n",
       "main_camera_mp         3275.0    NaN      NaN   NaN     9.460208     4.815461   \n",
       "selfie_camera_mp       3452.0    NaN      NaN   NaN     6.554229     6.970372   \n",
       "int_memory             3450.0    NaN      NaN   NaN    54.573099    84.972371   \n",
       "ram                    3450.0    NaN      NaN   NaN     4.036122     1.365105   \n",
       "battery                3448.0    NaN      NaN   NaN  3133.402697  1299.682844   \n",
       "weight                 3447.0    NaN      NaN   NaN   182.751871    88.413228   \n",
       "release_year           3454.0    NaN      NaN   NaN  2015.965258     2.298455   \n",
       "days_used              3454.0    NaN      NaN   NaN   674.869716   248.580166   \n",
       "normalized_used_price  3454.0    NaN      NaN   NaN     4.364712     0.588914   \n",
       "normalized_new_price   3454.0    NaN      NaN   NaN     5.233107     0.683637   \n",
       "\n",
       "                            min       25%       50%       75%       max  \n",
       "brand_name                  NaN       NaN       NaN       NaN       NaN  \n",
       "os                          NaN       NaN       NaN       NaN       NaN  \n",
       "screen_size                5.08      12.7     12.83     15.34     30.71  \n",
       "4g                          NaN       NaN       NaN       NaN       NaN  \n",
       "5g                          NaN       NaN       NaN       NaN       NaN  \n",
       "main_camera_mp             0.08       5.0       8.0      13.0      48.0  \n",
       "selfie_camera_mp            0.0       2.0       5.0       8.0      32.0  \n",
       "int_memory                 0.01      16.0      32.0      64.0    1024.0  \n",
       "ram                        0.02       4.0       4.0       4.0      12.0  \n",
       "battery                   500.0    2100.0    3000.0    4000.0    9720.0  \n",
       "weight                     69.0     142.0     160.0     185.0     855.0  \n",
       "release_year             2013.0    2014.0    2015.5    2018.0    2020.0  \n",
       "days_used                  91.0     533.5     690.5    868.75    1094.0  \n",
       "normalized_used_price  1.536867  4.033931  4.405133    4.7557  6.619433  \n",
       "normalized_new_price   2.901422  4.790342  5.245892  5.673718  7.847841  "
      ]
     },
     "execution_count": 20,
     "metadata": {},
     "output_type": "execute_result"
    }
   ],
   "source": [
    "data.describe(include = 'all').T ## the code to print the statistical summary of the data"
   ]
  },
  {
   "cell_type": "markdown",
   "metadata": {
    "id": "xNr4bWoM-qT5"
   },
   "source": [
    "### Checking for duplicate values"
   ]
  },
  {
   "cell_type": "code",
   "execution_count": 25,
   "metadata": {
    "id": "NCydbTEHWmMl"
   },
   "outputs": [
    {
     "data": {
      "text/plain": [
       "0"
      ]
     },
     "execution_count": 25,
     "metadata": {},
     "output_type": "execute_result"
    }
   ],
   "source": [
    "data.duplicated().sum() ## code to check duplicate entries in the data"
   ]
  },
  {
   "cell_type": "markdown",
   "metadata": {
    "id": "Ch_TjRfF-qT5"
   },
   "source": [
    "### Checking for missing values"
   ]
  },
  {
   "cell_type": "code",
   "execution_count": 167,
   "metadata": {
    "id": "c10B9HMNWq9K"
   },
   "outputs": [
    {
     "data": {
      "text/plain": [
       "brand_name                 0\n",
       "os                         0\n",
       "screen_size                0\n",
       "4g                         0\n",
       "5g                         0\n",
       "main_camera_mp           179\n",
       "selfie_camera_mp           2\n",
       "int_memory                 4\n",
       "ram                        4\n",
       "battery                    6\n",
       "weight                     7\n",
       "release_year               0\n",
       "days_used                  0\n",
       "normalized_used_price      0\n",
       "normalized_new_price       0\n",
       "dtype: int64"
      ]
     },
     "execution_count": 167,
     "metadata": {},
     "output_type": "execute_result"
    }
   ],
   "source": [
    "data.isnull().sum() ## code to check duplicate entries in the data"
   ]
  },
  {
   "cell_type": "code",
   "execution_count": 190,
   "metadata": {
    "id": "Z4HfMUSiWxBT"
   },
   "outputs": [],
   "source": [
    "# creating a copy of the data so that original data remains unchanged\n",
    "df = data.copy()\n"
   ]
  },
  {
   "cell_type": "code",
   "execution_count": 169,
   "metadata": {},
   "outputs": [
    {
     "data": {
      "text/html": [
       "<div>\n",
       "<style scoped>\n",
       "    .dataframe tbody tr th:only-of-type {\n",
       "        vertical-align: middle;\n",
       "    }\n",
       "\n",
       "    .dataframe tbody tr th {\n",
       "        vertical-align: top;\n",
       "    }\n",
       "\n",
       "    .dataframe thead th {\n",
       "        text-align: right;\n",
       "    }\n",
       "</style>\n",
       "<table border=\"1\" class=\"dataframe\">\n",
       "  <thead>\n",
       "    <tr style=\"text-align: right;\">\n",
       "      <th></th>\n",
       "      <th>brand_name</th>\n",
       "      <th>os</th>\n",
       "      <th>screen_size</th>\n",
       "      <th>4g</th>\n",
       "      <th>5g</th>\n",
       "      <th>main_camera_mp</th>\n",
       "      <th>selfie_camera_mp</th>\n",
       "      <th>int_memory</th>\n",
       "      <th>ram</th>\n",
       "      <th>battery</th>\n",
       "      <th>weight</th>\n",
       "      <th>release_year</th>\n",
       "      <th>days_used</th>\n",
       "      <th>normalized_used_price</th>\n",
       "      <th>normalized_new_price</th>\n",
       "    </tr>\n",
       "  </thead>\n",
       "  <tbody>\n",
       "    <tr>\n",
       "      <th>0</th>\n",
       "      <td>Honor</td>\n",
       "      <td>Android</td>\n",
       "      <td>14.50</td>\n",
       "      <td>yes</td>\n",
       "      <td>no</td>\n",
       "      <td>13.0</td>\n",
       "      <td>5.0</td>\n",
       "      <td>64.0</td>\n",
       "      <td>3.0</td>\n",
       "      <td>3020.0</td>\n",
       "      <td>146.0</td>\n",
       "      <td>2020</td>\n",
       "      <td>127</td>\n",
       "      <td>4.307572</td>\n",
       "      <td>4.715100</td>\n",
       "    </tr>\n",
       "    <tr>\n",
       "      <th>1</th>\n",
       "      <td>Honor</td>\n",
       "      <td>Android</td>\n",
       "      <td>17.30</td>\n",
       "      <td>yes</td>\n",
       "      <td>yes</td>\n",
       "      <td>13.0</td>\n",
       "      <td>16.0</td>\n",
       "      <td>128.0</td>\n",
       "      <td>8.0</td>\n",
       "      <td>4300.0</td>\n",
       "      <td>213.0</td>\n",
       "      <td>2020</td>\n",
       "      <td>325</td>\n",
       "      <td>5.162097</td>\n",
       "      <td>5.519018</td>\n",
       "    </tr>\n",
       "    <tr>\n",
       "      <th>2</th>\n",
       "      <td>Honor</td>\n",
       "      <td>Android</td>\n",
       "      <td>16.69</td>\n",
       "      <td>yes</td>\n",
       "      <td>yes</td>\n",
       "      <td>13.0</td>\n",
       "      <td>8.0</td>\n",
       "      <td>128.0</td>\n",
       "      <td>8.0</td>\n",
       "      <td>4200.0</td>\n",
       "      <td>213.0</td>\n",
       "      <td>2020</td>\n",
       "      <td>162</td>\n",
       "      <td>5.111084</td>\n",
       "      <td>5.884631</td>\n",
       "    </tr>\n",
       "    <tr>\n",
       "      <th>3</th>\n",
       "      <td>Honor</td>\n",
       "      <td>Android</td>\n",
       "      <td>25.50</td>\n",
       "      <td>yes</td>\n",
       "      <td>yes</td>\n",
       "      <td>13.0</td>\n",
       "      <td>8.0</td>\n",
       "      <td>64.0</td>\n",
       "      <td>6.0</td>\n",
       "      <td>7250.0</td>\n",
       "      <td>480.0</td>\n",
       "      <td>2020</td>\n",
       "      <td>345</td>\n",
       "      <td>5.135387</td>\n",
       "      <td>5.630961</td>\n",
       "    </tr>\n",
       "    <tr>\n",
       "      <th>4</th>\n",
       "      <td>Honor</td>\n",
       "      <td>Android</td>\n",
       "      <td>15.32</td>\n",
       "      <td>yes</td>\n",
       "      <td>no</td>\n",
       "      <td>13.0</td>\n",
       "      <td>8.0</td>\n",
       "      <td>64.0</td>\n",
       "      <td>3.0</td>\n",
       "      <td>5000.0</td>\n",
       "      <td>185.0</td>\n",
       "      <td>2020</td>\n",
       "      <td>293</td>\n",
       "      <td>4.389995</td>\n",
       "      <td>4.947837</td>\n",
       "    </tr>\n",
       "    <tr>\n",
       "      <th>...</th>\n",
       "      <td>...</td>\n",
       "      <td>...</td>\n",
       "      <td>...</td>\n",
       "      <td>...</td>\n",
       "      <td>...</td>\n",
       "      <td>...</td>\n",
       "      <td>...</td>\n",
       "      <td>...</td>\n",
       "      <td>...</td>\n",
       "      <td>...</td>\n",
       "      <td>...</td>\n",
       "      <td>...</td>\n",
       "      <td>...</td>\n",
       "      <td>...</td>\n",
       "      <td>...</td>\n",
       "    </tr>\n",
       "    <tr>\n",
       "      <th>3449</th>\n",
       "      <td>Asus</td>\n",
       "      <td>Android</td>\n",
       "      <td>15.34</td>\n",
       "      <td>yes</td>\n",
       "      <td>no</td>\n",
       "      <td>NaN</td>\n",
       "      <td>8.0</td>\n",
       "      <td>64.0</td>\n",
       "      <td>6.0</td>\n",
       "      <td>5000.0</td>\n",
       "      <td>190.0</td>\n",
       "      <td>2019</td>\n",
       "      <td>232</td>\n",
       "      <td>4.492337</td>\n",
       "      <td>6.483872</td>\n",
       "    </tr>\n",
       "    <tr>\n",
       "      <th>3450</th>\n",
       "      <td>Asus</td>\n",
       "      <td>Android</td>\n",
       "      <td>15.24</td>\n",
       "      <td>yes</td>\n",
       "      <td>no</td>\n",
       "      <td>13.0</td>\n",
       "      <td>8.0</td>\n",
       "      <td>128.0</td>\n",
       "      <td>8.0</td>\n",
       "      <td>4000.0</td>\n",
       "      <td>200.0</td>\n",
       "      <td>2018</td>\n",
       "      <td>541</td>\n",
       "      <td>5.037732</td>\n",
       "      <td>6.251538</td>\n",
       "    </tr>\n",
       "    <tr>\n",
       "      <th>3451</th>\n",
       "      <td>Alcatel</td>\n",
       "      <td>Android</td>\n",
       "      <td>15.80</td>\n",
       "      <td>yes</td>\n",
       "      <td>no</td>\n",
       "      <td>13.0</td>\n",
       "      <td>5.0</td>\n",
       "      <td>32.0</td>\n",
       "      <td>3.0</td>\n",
       "      <td>4000.0</td>\n",
       "      <td>165.0</td>\n",
       "      <td>2020</td>\n",
       "      <td>201</td>\n",
       "      <td>4.357350</td>\n",
       "      <td>4.528829</td>\n",
       "    </tr>\n",
       "    <tr>\n",
       "      <th>3452</th>\n",
       "      <td>Alcatel</td>\n",
       "      <td>Android</td>\n",
       "      <td>15.80</td>\n",
       "      <td>yes</td>\n",
       "      <td>no</td>\n",
       "      <td>13.0</td>\n",
       "      <td>5.0</td>\n",
       "      <td>32.0</td>\n",
       "      <td>2.0</td>\n",
       "      <td>4000.0</td>\n",
       "      <td>160.0</td>\n",
       "      <td>2020</td>\n",
       "      <td>149</td>\n",
       "      <td>4.349762</td>\n",
       "      <td>4.624188</td>\n",
       "    </tr>\n",
       "    <tr>\n",
       "      <th>3453</th>\n",
       "      <td>Alcatel</td>\n",
       "      <td>Android</td>\n",
       "      <td>12.83</td>\n",
       "      <td>yes</td>\n",
       "      <td>no</td>\n",
       "      <td>13.0</td>\n",
       "      <td>5.0</td>\n",
       "      <td>16.0</td>\n",
       "      <td>2.0</td>\n",
       "      <td>4000.0</td>\n",
       "      <td>168.0</td>\n",
       "      <td>2020</td>\n",
       "      <td>176</td>\n",
       "      <td>4.132122</td>\n",
       "      <td>4.279994</td>\n",
       "    </tr>\n",
       "  </tbody>\n",
       "</table>\n",
       "<p>3454 rows × 15 columns</p>\n",
       "</div>"
      ],
      "text/plain": [
       "     brand_name       os  screen_size   4g   5g  main_camera_mp  \\\n",
       "0         Honor  Android        14.50  yes   no            13.0   \n",
       "1         Honor  Android        17.30  yes  yes            13.0   \n",
       "2         Honor  Android        16.69  yes  yes            13.0   \n",
       "3         Honor  Android        25.50  yes  yes            13.0   \n",
       "4         Honor  Android        15.32  yes   no            13.0   \n",
       "...         ...      ...          ...  ...  ...             ...   \n",
       "3449       Asus  Android        15.34  yes   no             NaN   \n",
       "3450       Asus  Android        15.24  yes   no            13.0   \n",
       "3451    Alcatel  Android        15.80  yes   no            13.0   \n",
       "3452    Alcatel  Android        15.80  yes   no            13.0   \n",
       "3453    Alcatel  Android        12.83  yes   no            13.0   \n",
       "\n",
       "      selfie_camera_mp  int_memory  ram  battery  weight  release_year  \\\n",
       "0                  5.0        64.0  3.0   3020.0   146.0          2020   \n",
       "1                 16.0       128.0  8.0   4300.0   213.0          2020   \n",
       "2                  8.0       128.0  8.0   4200.0   213.0          2020   \n",
       "3                  8.0        64.0  6.0   7250.0   480.0          2020   \n",
       "4                  8.0        64.0  3.0   5000.0   185.0          2020   \n",
       "...                ...         ...  ...      ...     ...           ...   \n",
       "3449               8.0        64.0  6.0   5000.0   190.0          2019   \n",
       "3450               8.0       128.0  8.0   4000.0   200.0          2018   \n",
       "3451               5.0        32.0  3.0   4000.0   165.0          2020   \n",
       "3452               5.0        32.0  2.0   4000.0   160.0          2020   \n",
       "3453               5.0        16.0  2.0   4000.0   168.0          2020   \n",
       "\n",
       "      days_used  normalized_used_price  normalized_new_price  \n",
       "0           127               4.307572              4.715100  \n",
       "1           325               5.162097              5.519018  \n",
       "2           162               5.111084              5.884631  \n",
       "3           345               5.135387              5.630961  \n",
       "4           293               4.389995              4.947837  \n",
       "...         ...                    ...                   ...  \n",
       "3449        232               4.492337              6.483872  \n",
       "3450        541               5.037732              6.251538  \n",
       "3451        201               4.357350              4.528829  \n",
       "3452        149               4.349762              4.624188  \n",
       "3453        176               4.132122              4.279994  \n",
       "\n",
       "[3454 rows x 15 columns]"
      ]
     },
     "execution_count": 169,
     "metadata": {},
     "output_type": "execute_result"
    }
   ],
   "source": [
    "df"
   ]
  },
  {
   "cell_type": "code",
   "execution_count": 191,
   "metadata": {},
   "outputs": [
    {
     "data": {
      "text/plain": [
       "13.00    1035\n",
       "8.00      755\n",
       "5.00      546\n",
       "12.00     189\n",
       "2.00      171\n",
       "16.00     154\n",
       "3.15      122\n",
       "0.30       69\n",
       "10.50      30\n",
       "1.30       26\n",
       "23.00      19\n",
       "21.00      19\n",
       "20.70      16\n",
       "20.00      13\n",
       "14.50      13\n",
       "12.20      12\n",
       "4.00       10\n",
       "12.30       9\n",
       "19.00       8\n",
       "8.10        7\n",
       "13.10       6\n",
       "10.00       6\n",
       "24.00       5\n",
       "3.00        5\n",
       "12.50       4\n",
       "48.00       4\n",
       "6.50        4\n",
       "6.70        4\n",
       "21.20       2\n",
       "21.50       1\n",
       "1.20        1\n",
       "16.30       1\n",
       "22.60       1\n",
       "18.00       1\n",
       "12.60       1\n",
       "20.10       1\n",
       "41.00       1\n",
       "20.20       1\n",
       "1.00        1\n",
       "0.08        1\n",
       "22.50       1\n",
       "Name: main_camera_mp, dtype: int64"
      ]
     },
     "execution_count": 191,
     "metadata": {},
     "output_type": "execute_result"
    }
   ],
   "source": [
    "#Checking number of values in main_camera_np\n",
    "df['main_camera_mp'].value_counts()\n",
    "\n",
    "#df['main_camera_mp'].shape"
   ]
  },
  {
   "cell_type": "code",
   "execution_count": 192,
   "metadata": {},
   "outputs": [
    {
     "data": {
      "text/plain": [
       "(3454,)"
      ]
     },
     "execution_count": 192,
     "metadata": {},
     "output_type": "execute_result"
    }
   ],
   "source": [
    "df['main_camera_mp'].shape"
   ]
  },
  {
   "cell_type": "markdown",
   "metadata": {
    "id": "DhPuzWO7hmV8"
   },
   "source": [
    "## Exploratory Data Analysis"
   ]
  },
  {
   "cell_type": "markdown",
   "metadata": {
    "id": "uxiNWC9JhmV8"
   },
   "source": [
    "### Univariate Analysis"
   ]
  },
  {
   "cell_type": "code",
   "execution_count": 194,
   "metadata": {
    "id": "opT6eO8qhmV8"
   },
   "outputs": [],
   "source": [
    "# function to plot a boxplot and a histogram along the same scale.\n",
    "\n",
    "\n",
    "def histogram_boxplot(data, feature, figsize=(15, 10), kde=False, bins=None):\n",
    "    \"\"\"\n",
    "    Boxplot and histogram combined\n",
    "\n",
    "    data: dataframe\n",
    "    feature: dataframe column\n",
    "    figsize: size of figure (default (15,10))\n",
    "    kde: whether to show the density curve (default False)\n",
    "    bins: number of bins for histogram (default None)\n",
    "    \"\"\"\n",
    "    f2, (ax_box2, ax_hist2) = plt.subplots(\n",
    "        nrows=2,  # Number of rows of the subplot grid= 2\n",
    "        sharex=True,  # x-axis will be shared among all subplots\n",
    "        gridspec_kw={\"height_ratios\": (0.25, 0.75)},\n",
    "        figsize=figsize,\n",
    "    )  # creating the 2 subplots\n",
    "    sns.boxplot(\n",
    "        data=data, x=feature, ax=ax_box2, showmeans=True, color=\"violet\"\n",
    "    )  # boxplot will be created and a triangle will indicate the mean value of the column\n",
    "    sns.histplot(\n",
    "        data=data, x=feature, kde=kde, ax=ax_hist2, bins=bins\n",
    "    ) if bins else sns.histplot(\n",
    "        data=data, x=feature, kde=kde, ax=ax_hist2\n",
    "    )  # For histogram\n",
    "    ax_hist2.axvline(\n",
    "        data[feature].mean(), color=\"green\", linestyle=\"--\"\n",
    "    )  # Add mean to the histogram\n",
    "    ax_hist2.axvline(\n",
    "        data[feature].median(), color=\"black\", linestyle=\"-\"\n",
    "    )  # Add median to the histogram"
   ]
  },
  {
   "cell_type": "code",
   "execution_count": 195,
   "metadata": {
    "id": "1I7psbWYhmWD"
   },
   "outputs": [],
   "source": [
    "# function to create labeled barplots\n",
    "\n",
    "\n",
    "def labeled_barplot(data, feature, perc=False, n=None):\n",
    "    \"\"\"\n",
    "    Barplot with percentage at the top\n",
    "\n",
    "    data: dataframe\n",
    "    feature: dataframe column\n",
    "    perc: whether to display percentages instead of count (default is False)\n",
    "    n: displays the top n category levels (default is None, i.e., display all levels)\n",
    "    \"\"\"\n",
    "\n",
    "    total = len(data[feature])  # length of the column\n",
    "    count = data[feature].nunique()\n",
    "    if n is None:\n",
    "        plt.figure(figsize=(count + 2, 6))\n",
    "    else:\n",
    "        plt.figure(figsize=(n + 2, 6))\n",
    "\n",
    "    plt.xticks(rotation=90, fontsize=15)\n",
    "    ax = sns.countplot(\n",
    "        data=data,\n",
    "        x=feature,\n",
    "        palette=\"Paired\",\n",
    "        order=data[feature].value_counts().index[:n],\n",
    "    )\n",
    "\n",
    "    for p in ax.patches:\n",
    "        if perc == True:\n",
    "            label = \"{:.1f}%\".format(\n",
    "                100 * p.get_height() / total\n",
    "            )  # percentage of each class of the category\n",
    "        else:\n",
    "            label = p.get_height()  # count of each level of the category\n",
    "\n",
    "        x = p.get_x() + p.get_width() / 2  # width of the plot\n",
    "        y = p.get_height()  # height of the plot\n",
    "\n",
    "        ax.annotate(\n",
    "            label,\n",
    "            (x, y),\n",
    "            ha=\"center\",\n",
    "            va=\"center\",\n",
    "            size=12,\n",
    "            xytext=(0, 5),\n",
    "            textcoords=\"offset points\",\n",
    "        )  # annotate the percentage\n",
    "\n",
    "    plt.show()  # show the plot"
   ]
  },
  {
   "cell_type": "markdown",
   "metadata": {
    "id": "woJI2SC5hmV9"
   },
   "source": [
    "**`normalized_used_price`**"
   ]
  },
  {
   "cell_type": "code",
   "execution_count": 173,
   "metadata": {
    "id": "KOz9j7M_hmV9"
   },
   "outputs": [
    {
     "data": {
      "image/png": "[encoded data removed]",
      "text/plain": [
       "<Figure size 1080x720 with 2 Axes>"
      ]
     },
     "metadata": {},
     "output_type": "display_data"
    }
   ],
   "source": [
    "histogram_boxplot(df, \"normalized_used_price\")  ## the code to create histogram_boxplot for 'normalized_price'"
   ]
  },
  {
   "cell_type": "markdown",
   "metadata": {
    "id": "YYIpGoRWhmV9"
   },
   "source": [
    "**`normalized_new_price`**"
   ]
  },
  {
   "cell_type": "code",
   "execution_count": 41,
   "metadata": {
    "id": "K_AVTS9-hmV_"
   },
   "outputs": [
    {
     "data": {
      "image/png": "[encoded data removed]",
      "text/plain": [
       "<Figure size 1080x720 with 2 Axes>"
      ]
     },
     "metadata": {},
     "output_type": "display_data"
    }
   ],
   "source": [
    "histogram_boxplot(df,'normalized_new_price')  ## the code to create histogram_boxplot for 'normalized_new_price'"
   ]
  },
  {
   "cell_type": "markdown",
   "metadata": {
    "id": "OVuQ8smPhmV_"
   },
   "source": [
    "**`screen_size`**"
   ]
  },
  {
   "cell_type": "code",
   "execution_count": 43,
   "metadata": {
    "id": "kDcR4t5uhmV_"
   },
   "outputs": [
    {
     "data": {
      "image/png": "[encoded data removed]",
      "text/plain": [
       "<Figure size 1080x720 with 2 Axes>"
      ]
     },
     "metadata": {},
     "output_type": "display_data"
    }
   ],
   "source": [
    "histogram_boxplot(df,'screen_size')  ## the code to create histogram_boxplot for 'screen_size'"
   ]
  },
  {
   "cell_type": "markdown",
   "metadata": {
    "id": "zeDwMOz6hmV_"
   },
   "source": [
    "**`main_camera_mp`**"
   ]
  },
  {
   "cell_type": "code",
   "execution_count": 45,
   "metadata": {
    "id": "qZHkTniOhmWA"
   },
   "outputs": [
    {
     "data": {
      "image/png": "[encoded data removed]",
      "text/plain": [
       "<Figure size 1080x720 with 2 Axes>"
      ]
     },
     "metadata": {},
     "output_type": "display_data"
    }
   ],
   "source": [
    "histogram_boxplot(df,'main_camera_mp')  ## the code to create histogram_boxplot for 'main_camera_mp'"
   ]
  },
  {
   "cell_type": "markdown",
   "metadata": {
    "id": "MZav4AxrhmWA"
   },
   "source": [
    "**`selfie_camera_mp`**"
   ]
  },
  {
   "cell_type": "code",
   "execution_count": 46,
   "metadata": {
    "id": "ZxX6OlLehmWA"
   },
   "outputs": [
    {
     "data": {
      "image/png": "[encoded data removed]",
      "text/plain": [
       "<Figure size 1080x720 with 2 Axes>"
      ]
     },
     "metadata": {},
     "output_type": "display_data"
    }
   ],
   "source": [
    "histogram_boxplot(df,'selfie_camera_mp')  ## the code to create histogram_boxplot for 'selfie_camera_mp'"
   ]
  },
  {
   "cell_type": "markdown",
   "metadata": {
    "id": "oFXxdInchmWA"
   },
   "source": [
    "**`int_memory`**"
   ]
  },
  {
   "cell_type": "code",
   "execution_count": 47,
   "metadata": {
    "id": "FhrZ64l_hmWA"
   },
   "outputs": [
    {
     "data": {
      "image/png": "[encoded data removed]",
      "text/plain": [
       "<Figure size 1080x720 with 2 Axes>"
      ]
     },
     "metadata": {},
     "output_type": "display_data"
    }
   ],
   "source": [
    "histogram_boxplot(df,'int_memory')  ## the code to create histogram_boxplot for 'int_memory'"
   ]
  },
  {
   "cell_type": "markdown",
   "metadata": {
    "id": "eXF46221hmWA"
   },
   "source": [
    "**`ram`**"
   ]
  },
  {
   "cell_type": "code",
   "execution_count": 48,
   "metadata": {
    "id": "2TfjASGThmWA"
   },
   "outputs": [
    {
     "data": {
      "image/png": "[encoded data removed]",
      "text/plain": [
       "<Figure size 1080x720 with 2 Axes>"
      ]
     },
     "metadata": {},
     "output_type": "display_data"
    }
   ],
   "source": [
    "histogram_boxplot(df, 'ram')  ## the code to create histogram_boxplot for 'ram'"
   ]
  },
  {
   "cell_type": "markdown",
   "metadata": {
    "id": "fTZI2sO1hmWB"
   },
   "source": [
    "**`weight`**"
   ]
  },
  {
   "cell_type": "code",
   "execution_count": 49,
   "metadata": {
    "id": "PDxaAIDZhmWB"
   },
   "outputs": [
    {
     "data": {
      "image/png": "[encoded data removed]",
      "text/plain": [
       "<Figure size 1080x720 with 2 Axes>"
      ]
     },
     "metadata": {},
     "output_type": "display_data"
    }
   ],
   "source": [
    "histogram_boxplot(df,'weight')  ## the code to create histogram_boxplot for 'weight'"
   ]
  },
  {
   "cell_type": "markdown",
   "metadata": {
    "id": "VXgPSxGbhmWB"
   },
   "source": [
    "**`battery`**"
   ]
  },
  {
   "cell_type": "code",
   "execution_count": 50,
   "metadata": {
    "id": "9Wo--kEQhmWB"
   },
   "outputs": [
    {
     "data": {
      "image/png": "[encoded data removed]",
      "text/plain": [
       "<Figure size 1080x720 with 2 Axes>"
      ]
     },
     "metadata": {},
     "output_type": "display_data"
    }
   ],
   "source": [
    "histogram_boxplot(df,'battery')  ## the code to create histogram_boxplot for 'battery'"
   ]
  },
  {
   "cell_type": "markdown",
   "metadata": {
    "id": "9WPI4QMjhmWB"
   },
   "source": [
    "**`days_used`**"
   ]
  },
  {
   "cell_type": "code",
   "execution_count": 51,
   "metadata": {
    "id": "v3JU7JxehmWB"
   },
   "outputs": [
    {
     "data": {
      "image/png": "[encoded data removed]",
      "text/plain": [
       "<Figure size 1080x720 with 2 Axes>"
      ]
     },
     "metadata": {},
     "output_type": "display_data"
    }
   ],
   "source": [
    "histogram_boxplot(df,'days_used')  ##the code to create histogram_boxplot for 'days_used'"
   ]
  },
  {
   "cell_type": "markdown",
   "metadata": {
    "id": "utY4IudWhmWD"
   },
   "source": [
    "**`brand_name`**"
   ]
  },
  {
   "cell_type": "code",
   "execution_count": 52,
   "metadata": {
    "id": "5VvbAPpYhmWD"
   },
   "outputs": [
    {
     "data": {
      "image/png": "[encoded data removed]",
      "text/plain": [
       "<Figure size 864x432 with 1 Axes>"
      ]
     },
     "metadata": {},
     "output_type": "display_data"
    }
   ],
   "source": [
    "labeled_barplot(df, \"brand_name\", perc=True, n=10)"
   ]
  },
  {
   "cell_type": "markdown",
   "metadata": {
    "id": "NIqtv7SHhmWD"
   },
   "source": [
    "**`os`**"
   ]
  },
  {
   "cell_type": "code",
   "execution_count": 53,
   "metadata": {
    "id": "pG7BdJ30hmWD"
   },
   "outputs": [
    {
     "data": {
      "image/png": "[encoded data removed]",
      "text/plain": [
       "<Figure size 432x432 with 1 Axes>"
      ]
     },
     "metadata": {},
     "output_type": "display_data"
    }
   ],
   "source": [
    "labeled_barplot(df,'os') ## the code to create labeled_barplot for 'os'"
   ]
  },
  {
   "cell_type": "markdown",
   "metadata": {
    "id": "5rGNYyuahmWD"
   },
   "source": [
    "**`4g`**"
   ]
  },
  {
   "cell_type": "code",
   "execution_count": 54,
   "metadata": {
    "id": "wtGMz_aEhmWD"
   },
   "outputs": [
    {
     "data": {
      "image/png": "[encoded data removed]",
      "text/plain": [
       "<Figure size 288x432 with 1 Axes>"
      ]
     },
     "metadata": {},
     "output_type": "display_data"
    }
   ],
   "source": [
    "labeled_barplot(df,'4g') ## the code to create labeled_barplot for '4g'"
   ]
  },
  {
   "cell_type": "markdown",
   "metadata": {
    "id": "7k69m1GPhmWD"
   },
   "source": [
    "**`5g`**"
   ]
  },
  {
   "cell_type": "code",
   "execution_count": 55,
   "metadata": {
    "id": "A5s9SA49hmWE"
   },
   "outputs": [
    {
     "data": {
      "image/png": "[encoded data removed]",
      "text/plain": [
       "<Figure size 288x432 with 1 Axes>"
      ]
     },
     "metadata": {},
     "output_type": "display_data"
    }
   ],
   "source": [
    "labeled_barplot(df,'5g') ## the code to create labeled_barplot for '5g'"
   ]
  },
  {
   "cell_type": "markdown",
   "metadata": {
    "id": "bTnwoEZ6hmWE"
   },
   "source": [
    "**`release_year`**"
   ]
  },
  {
   "cell_type": "code",
   "execution_count": 56,
   "metadata": {
    "id": "lgV3q1tUhmWE"
   },
   "outputs": [
    {
     "data": {
      "image/png": "[encoded data removed]",
      "text/plain": [
       "<Figure size 720x432 with 1 Axes>"
      ]
     },
     "metadata": {},
     "output_type": "display_data"
    }
   ],
   "source": [
    "labeled_barplot(df,'release_year') ## Complete the code to create labeled_barplot for 'release_year'"
   ]
  },
  {
   "cell_type": "markdown",
   "metadata": {
    "id": "Ga_huJrnhmWE"
   },
   "source": [
    "### Bivariate Analysis"
   ]
  },
  {
   "cell_type": "markdown",
   "metadata": {
    "id": "Jc8kJMd6VxHC"
   },
   "source": [
    "**Correlation Check**"
   ]
  },
  {
   "cell_type": "code",
   "execution_count": 196,
   "metadata": {
    "id": "BpJxawjAhmWE"
   },
   "outputs": [
    {
     "data": {
      "image/png": "[encoded data removed]",
      "text/plain": [
       "<Figure size 1080x504 with 2 Axes>"
      ]
     },
     "metadata": {},
     "output_type": "display_data"
    }
   ],
   "source": [
    "cols_list = df.select_dtypes(include=np.number).columns.tolist()\n",
    "# dropping release_year as it is a temporal variable\n",
    "cols_list.remove(\"release_year\")\n",
    "\n",
    "plt.figure(figsize=(15, 7))\n",
    "sns.heatmap(\n",
    "    df[cols_list].corr(), annot=True, vmin=-1, vmax=1, fmt=\".2f\", cmap=\"Spectral\"\n",
    ")\n",
    "plt.show()"
   ]
  },
  {
   "cell_type": "markdown",
   "metadata": {
    "id": "QLjArqLFhmWF"
   },
   "source": [
    "**The amount of RAM is important for the smooth functioning of a device. Let's see how the amount of RAM varies across brands.**"
   ]
  },
  {
   "cell_type": "code",
   "execution_count": 197,
   "metadata": {
    "id": "q77kiPCxhmWF"
   },
   "outputs": [
    {
     "data": {
      "image/png": "[encoded data removed]",
      "text/plain": [
       "<Figure size 1080x360 with 1 Axes>"
      ]
     },
     "metadata": {},
     "output_type": "display_data"
    }
   ],
   "source": [
    "plt.figure(figsize=(15, 5))\n",
    "sns.boxplot(data=df, x=\"brand_name\", y=\"ram\")\n",
    "plt.xticks(rotation=90)\n",
    "plt.show()"
   ]
  },
  {
   "cell_type": "markdown",
   "metadata": {
    "id": "HeDTwk21hmWF"
   },
   "source": [
    "**People who travel frequently require devices with large batteries to run through the day. But large battery often increases weight, making it feel uncomfortable in the hands. Let's create a new dataframe of only those devices which offer a large battery and analyze.**"
   ]
  },
  {
   "cell_type": "code",
   "execution_count": 198,
   "metadata": {
    "id": "Cbcd1vbZhmWF"
   },
   "outputs": [
    {
     "data": {
      "text/plain": [
       "(341, 15)"
      ]
     },
     "execution_count": 198,
     "metadata": {},
     "output_type": "execute_result"
    }
   ],
   "source": [
    "df_large_battery = df[df.battery > 4500]\n",
    "df_large_battery.shape"
   ]
  },
  {
   "cell_type": "code",
   "execution_count": 178,
   "metadata": {
    "id": "kcrj-ImghmWF"
   },
   "outputs": [
    {
     "data": {
      "image/png": "[encoded data removed]",
      "text/plain": [
       "<Figure size 1080x360 with 1 Axes>"
      ]
     },
     "metadata": {},
     "output_type": "display_data"
    }
   ],
   "source": [
    "plt.figure(figsize=(15, 5))\n",
    "sns.boxplot(data = df_large_battery, x ='brand_name', y = 'weight') ##the code to create a boxplot for 'brand_name' and 'weight'\n",
    "plt.xticks(rotation=90)\n",
    "plt.show()"
   ]
  },
  {
   "cell_type": "markdown",
   "metadata": {
    "id": "E9o5QoShhmWF"
   },
   "source": [
    "**People who buy phones and tablets primarily for entertainment purposes prefer a large screen as they offer a better viewing experience. Let's create a new dataframe of only those devices which are suitable for such people and analyze.**"
   ]
  },
  {
   "cell_type": "code",
   "execution_count": 199,
   "metadata": {
    "id": "i1DT9SDBhmWF"
   },
   "outputs": [
    {
     "data": {
      "text/plain": [
       "(1099, 15)"
      ]
     },
     "execution_count": 199,
     "metadata": {},
     "output_type": "execute_result"
    }
   ],
   "source": [
    "df_large_screen = df[df.screen_size > 6 * 2.54]\n",
    "df_large_screen.shape"
   ]
  },
  {
   "cell_type": "code",
   "execution_count": 200,
   "metadata": {
    "id": "CkSkJ0GIhmWG"
   },
   "outputs": [
    {
     "data": {
      "text/plain": [
       "<Figure size 5760x4464 with 0 Axes>"
      ]
     },
     "metadata": {},
     "output_type": "display_data"
    },
    {
     "data": {
      "image/png": "[encoded data removed]",
      "text/plain": [
       "<Figure size 2376x432 with 1 Axes>"
      ]
     },
     "metadata": {},
     "output_type": "display_data"
    }
   ],
   "source": [
    "plt.figure(figsize=(80, 62))\n",
    "labeled_barplot(df_large_screen,'brand_name')#  the code to create labeled_barplot for 'brand_name' in large screen dataframe\n",
    "plt.show()"
   ]
  },
  {
   "cell_type": "code",
   "execution_count": 78,
   "metadata": {},
   "outputs": [],
   "source": [
    "?labeled_barplot"
   ]
  },
  {
   "cell_type": "markdown",
   "metadata": {
    "id": "UZ4IWWn7hmWG"
   },
   "source": [
    "**Everyone likes a good camera to capture their favorite moments with loved ones. Some customers specifically look for good front cameras to click cool selfies. Let's create a new dataframe of only those devices which are suitable for this customer segment and analyze.**"
   ]
  },
  {
   "cell_type": "code",
   "execution_count": 201,
   "metadata": {
    "id": "lAond0uQhmWG"
   },
   "outputs": [
    {
     "data": {
      "text/plain": [
       "(655, 15)"
      ]
     },
     "execution_count": 201,
     "metadata": {},
     "output_type": "execute_result"
    }
   ],
   "source": [
    "df_selfie_camera = df[df.selfie_camera_mp > 8]\n",
    "df_selfie_camera.shape"
   ]
  },
  {
   "cell_type": "code",
   "execution_count": 202,
   "metadata": {
    "id": "OdP27nZBhmWG"
   },
   "outputs": [
    {
     "data": {
      "image/png": "[encoded data removed]",
      "text/plain": [
       "<Figure size 1944x432 with 1 Axes>"
      ]
     },
     "metadata": {},
     "output_type": "display_data"
    }
   ],
   "source": [
    "labeled_barplot(df_selfie_camera, 'brand_name') ##  the code to create labeled_barplot for 'brand_name' in high selfie camera dataframe"
   ]
  },
  {
   "cell_type": "markdown",
   "metadata": {
    "id": "BmFNBDmxhmWH"
   },
   "source": [
    "**Let's do a similar analysis for rear cameras.**\n",
    "\n",
    "- Rear cameras generally have a better resolution than front cameras, so we set the threshold higher for them at 16MP."
   ]
  },
  {
   "cell_type": "code",
   "execution_count": 203,
   "metadata": {
    "id": "-xoY4afZhmWH"
   },
   "outputs": [
    {
     "data": {
      "text/plain": [
       "(94, 15)"
      ]
     },
     "execution_count": 203,
     "metadata": {},
     "output_type": "execute_result"
    }
   ],
   "source": [
    "df_main_camera = df[df.main_camera_mp > 16]\n",
    "df_main_camera.shape"
   ]
  },
  {
   "cell_type": "code",
   "execution_count": 204,
   "metadata": {
    "id": "gegyv89HhmWH"
   },
   "outputs": [
    {
     "data": {
      "image/png": "[encoded data removed]",
      "text/plain": [
       "<Figure size 1368x432 with 1 Axes>"
      ]
     },
     "metadata": {},
     "output_type": "display_data"
    }
   ],
   "source": [
    "labeled_barplot(df_main_camera,'brand_name') ## the code to create labeled_barplot for 'brand_name' in high main camera dataframe"
   ]
  },
  {
   "cell_type": "markdown",
   "metadata": {
    "id": "SDx7dJtEhmWH"
   },
   "source": [
    "**Let's see how the price of used devices varies across the years.**"
   ]
  },
  {
   "cell_type": "code",
   "execution_count": 211,
   "metadata": {
    "id": "HrdhOpHthmWH",
    "scrolled": true
   },
   "outputs": [
    {
     "data": {
      "image/png": "[encoded data removed]",
      "text/plain": [
       "<Figure size 864x360 with 1 Axes>"
      ]
     },
     "metadata": {},
     "output_type": "display_data"
    }
   ],
   "source": [
    "plt.figure(figsize=(12, 5))\n",
    "sns.lineplot(data = df, x = 'release_year', y = 'normalized_used_price') ## the code to create a lineplot for release year and used price\n",
    "plt.show()"
   ]
  },
  {
   "cell_type": "markdown",
   "metadata": {
    "id": "vvLSkuZ2hmWI"
   },
   "source": [
    "**Let's check how the prices vary for used phones and tablets offering 4G and 5G networks.**"
   ]
  },
  {
   "cell_type": "code",
   "execution_count": 187,
   "metadata": {
    "id": "x5ni9yVPhmWI"
   },
   "outputs": [
    {
     "data": {
      "image/png": "[encoded data removed]",
      "text/plain": [
       "<Figure size 720x288 with 2 Axes>"
      ]
     },
     "metadata": {},
     "output_type": "display_data"
    }
   ],
   "source": [
    "plt.figure(figsize=(10, 4))\n",
    "\n",
    "plt.subplot(121)\n",
    "sns.boxplot(data=df, x=\"4g\", y=\"normalized_used_price\")\n",
    "\n",
    "plt.subplot(122)\n",
    "sns.boxplot(data=df, x=\"5g\", y=\"normalized_used_price\")\n",
    "\n",
    "plt.show()"
   ]
  },
  {
   "cell_type": "markdown",
   "metadata": {
    "id": "sbDJ_Vl8hmWI"
   },
   "source": [
    "## Data Preprocessing"
   ]
  },
  {
   "cell_type": "markdown",
   "metadata": {
    "id": "9Jnj657ShmWI"
   },
   "source": [
    "### Missing Value Imputation\n",
    "\n",
    "- We will impute the missing values in the data by the column medians grouped by `release_year` and `brand_name`."
   ]
  },
  {
   "cell_type": "code",
   "execution_count": 212,
   "metadata": {
    "id": "dzp0-E7rKffM"
   },
   "outputs": [],
   "source": [
    "# let's create a copy of the data\n",
    "df1 = df.copy()"
   ]
  },
  {
   "cell_type": "code",
   "execution_count": 213,
   "metadata": {},
   "outputs": [
    {
     "data": {
      "text/html": [
       "<div>\n",
       "<style scoped>\n",
       "    .dataframe tbody tr th:only-of-type {\n",
       "        vertical-align: middle;\n",
       "    }\n",
       "\n",
       "    .dataframe tbody tr th {\n",
       "        vertical-align: top;\n",
       "    }\n",
       "\n",
       "    .dataframe thead th {\n",
       "        text-align: right;\n",
       "    }\n",
       "</style>\n",
       "<table border=\"1\" class=\"dataframe\">\n",
       "  <thead>\n",
       "    <tr style=\"text-align: right;\">\n",
       "      <th></th>\n",
       "      <th>brand_name</th>\n",
       "      <th>os</th>\n",
       "      <th>screen_size</th>\n",
       "      <th>4g</th>\n",
       "      <th>5g</th>\n",
       "      <th>main_camera_mp</th>\n",
       "      <th>selfie_camera_mp</th>\n",
       "      <th>int_memory</th>\n",
       "      <th>ram</th>\n",
       "      <th>battery</th>\n",
       "      <th>weight</th>\n",
       "      <th>release_year</th>\n",
       "      <th>days_used</th>\n",
       "      <th>normalized_used_price</th>\n",
       "      <th>normalized_new_price</th>\n",
       "    </tr>\n",
       "  </thead>\n",
       "  <tbody>\n",
       "    <tr>\n",
       "      <th>0</th>\n",
       "      <td>Honor</td>\n",
       "      <td>Android</td>\n",
       "      <td>14.50</td>\n",
       "      <td>yes</td>\n",
       "      <td>no</td>\n",
       "      <td>13.0</td>\n",
       "      <td>5.0</td>\n",
       "      <td>64.0</td>\n",
       "      <td>3.0</td>\n",
       "      <td>3020.0</td>\n",
       "      <td>146.0</td>\n",
       "      <td>2020</td>\n",
       "      <td>127</td>\n",
       "      <td>4.307572</td>\n",
       "      <td>4.715100</td>\n",
       "    </tr>\n",
       "    <tr>\n",
       "      <th>1</th>\n",
       "      <td>Honor</td>\n",
       "      <td>Android</td>\n",
       "      <td>17.30</td>\n",
       "      <td>yes</td>\n",
       "      <td>yes</td>\n",
       "      <td>13.0</td>\n",
       "      <td>16.0</td>\n",
       "      <td>128.0</td>\n",
       "      <td>8.0</td>\n",
       "      <td>4300.0</td>\n",
       "      <td>213.0</td>\n",
       "      <td>2020</td>\n",
       "      <td>325</td>\n",
       "      <td>5.162097</td>\n",
       "      <td>5.519018</td>\n",
       "    </tr>\n",
       "    <tr>\n",
       "      <th>2</th>\n",
       "      <td>Honor</td>\n",
       "      <td>Android</td>\n",
       "      <td>16.69</td>\n",
       "      <td>yes</td>\n",
       "      <td>yes</td>\n",
       "      <td>13.0</td>\n",
       "      <td>8.0</td>\n",
       "      <td>128.0</td>\n",
       "      <td>8.0</td>\n",
       "      <td>4200.0</td>\n",
       "      <td>213.0</td>\n",
       "      <td>2020</td>\n",
       "      <td>162</td>\n",
       "      <td>5.111084</td>\n",
       "      <td>5.884631</td>\n",
       "    </tr>\n",
       "    <tr>\n",
       "      <th>3</th>\n",
       "      <td>Honor</td>\n",
       "      <td>Android</td>\n",
       "      <td>25.50</td>\n",
       "      <td>yes</td>\n",
       "      <td>yes</td>\n",
       "      <td>13.0</td>\n",
       "      <td>8.0</td>\n",
       "      <td>64.0</td>\n",
       "      <td>6.0</td>\n",
       "      <td>7250.0</td>\n",
       "      <td>480.0</td>\n",
       "      <td>2020</td>\n",
       "      <td>345</td>\n",
       "      <td>5.135387</td>\n",
       "      <td>5.630961</td>\n",
       "    </tr>\n",
       "    <tr>\n",
       "      <th>4</th>\n",
       "      <td>Honor</td>\n",
       "      <td>Android</td>\n",
       "      <td>15.32</td>\n",
       "      <td>yes</td>\n",
       "      <td>no</td>\n",
       "      <td>13.0</td>\n",
       "      <td>8.0</td>\n",
       "      <td>64.0</td>\n",
       "      <td>3.0</td>\n",
       "      <td>5000.0</td>\n",
       "      <td>185.0</td>\n",
       "      <td>2020</td>\n",
       "      <td>293</td>\n",
       "      <td>4.389995</td>\n",
       "      <td>4.947837</td>\n",
       "    </tr>\n",
       "    <tr>\n",
       "      <th>...</th>\n",
       "      <td>...</td>\n",
       "      <td>...</td>\n",
       "      <td>...</td>\n",
       "      <td>...</td>\n",
       "      <td>...</td>\n",
       "      <td>...</td>\n",
       "      <td>...</td>\n",
       "      <td>...</td>\n",
       "      <td>...</td>\n",
       "      <td>...</td>\n",
       "      <td>...</td>\n",
       "      <td>...</td>\n",
       "      <td>...</td>\n",
       "      <td>...</td>\n",
       "      <td>...</td>\n",
       "    </tr>\n",
       "    <tr>\n",
       "      <th>3449</th>\n",
       "      <td>Asus</td>\n",
       "      <td>Android</td>\n",
       "      <td>15.34</td>\n",
       "      <td>yes</td>\n",
       "      <td>no</td>\n",
       "      <td>NaN</td>\n",
       "      <td>8.0</td>\n",
       "      <td>64.0</td>\n",
       "      <td>6.0</td>\n",
       "      <td>5000.0</td>\n",
       "      <td>190.0</td>\n",
       "      <td>2019</td>\n",
       "      <td>232</td>\n",
       "      <td>4.492337</td>\n",
       "      <td>6.483872</td>\n",
       "    </tr>\n",
       "    <tr>\n",
       "      <th>3450</th>\n",
       "      <td>Asus</td>\n",
       "      <td>Android</td>\n",
       "      <td>15.24</td>\n",
       "      <td>yes</td>\n",
       "      <td>no</td>\n",
       "      <td>13.0</td>\n",
       "      <td>8.0</td>\n",
       "      <td>128.0</td>\n",
       "      <td>8.0</td>\n",
       "      <td>4000.0</td>\n",
       "      <td>200.0</td>\n",
       "      <td>2018</td>\n",
       "      <td>541</td>\n",
       "      <td>5.037732</td>\n",
       "      <td>6.251538</td>\n",
       "    </tr>\n",
       "    <tr>\n",
       "      <th>3451</th>\n",
       "      <td>Alcatel</td>\n",
       "      <td>Android</td>\n",
       "      <td>15.80</td>\n",
       "      <td>yes</td>\n",
       "      <td>no</td>\n",
       "      <td>13.0</td>\n",
       "      <td>5.0</td>\n",
       "      <td>32.0</td>\n",
       "      <td>3.0</td>\n",
       "      <td>4000.0</td>\n",
       "      <td>165.0</td>\n",
       "      <td>2020</td>\n",
       "      <td>201</td>\n",
       "      <td>4.357350</td>\n",
       "      <td>4.528829</td>\n",
       "    </tr>\n",
       "    <tr>\n",
       "      <th>3452</th>\n",
       "      <td>Alcatel</td>\n",
       "      <td>Android</td>\n",
       "      <td>15.80</td>\n",
       "      <td>yes</td>\n",
       "      <td>no</td>\n",
       "      <td>13.0</td>\n",
       "      <td>5.0</td>\n",
       "      <td>32.0</td>\n",
       "      <td>2.0</td>\n",
       "      <td>4000.0</td>\n",
       "      <td>160.0</td>\n",
       "      <td>2020</td>\n",
       "      <td>149</td>\n",
       "      <td>4.349762</td>\n",
       "      <td>4.624188</td>\n",
       "    </tr>\n",
       "    <tr>\n",
       "      <th>3453</th>\n",
       "      <td>Alcatel</td>\n",
       "      <td>Android</td>\n",
       "      <td>12.83</td>\n",
       "      <td>yes</td>\n",
       "      <td>no</td>\n",
       "      <td>13.0</td>\n",
       "      <td>5.0</td>\n",
       "      <td>16.0</td>\n",
       "      <td>2.0</td>\n",
       "      <td>4000.0</td>\n",
       "      <td>168.0</td>\n",
       "      <td>2020</td>\n",
       "      <td>176</td>\n",
       "      <td>4.132122</td>\n",
       "      <td>4.279994</td>\n",
       "    </tr>\n",
       "  </tbody>\n",
       "</table>\n",
       "<p>3454 rows × 15 columns</p>\n",
       "</div>"
      ],
      "text/plain": [
       "     brand_name       os  screen_size   4g   5g  main_camera_mp  \\\n",
       "0         Honor  Android        14.50  yes   no            13.0   \n",
       "1         Honor  Android        17.30  yes  yes            13.0   \n",
       "2         Honor  Android        16.69  yes  yes            13.0   \n",
       "3         Honor  Android        25.50  yes  yes            13.0   \n",
       "4         Honor  Android        15.32  yes   no            13.0   \n",
       "...         ...      ...          ...  ...  ...             ...   \n",
       "3449       Asus  Android        15.34  yes   no             NaN   \n",
       "3450       Asus  Android        15.24  yes   no            13.0   \n",
       "3451    Alcatel  Android        15.80  yes   no            13.0   \n",
       "3452    Alcatel  Android        15.80  yes   no            13.0   \n",
       "3453    Alcatel  Android        12.83  yes   no            13.0   \n",
       "\n",
       "      selfie_camera_mp  int_memory  ram  battery  weight  release_year  \\\n",
       "0                  5.0        64.0  3.0   3020.0   146.0          2020   \n",
       "1                 16.0       128.0  8.0   4300.0   213.0          2020   \n",
       "2                  8.0       128.0  8.0   4200.0   213.0          2020   \n",
       "3                  8.0        64.0  6.0   7250.0   480.0          2020   \n",
       "4                  8.0        64.0  3.0   5000.0   185.0          2020   \n",
       "...                ...         ...  ...      ...     ...           ...   \n",
       "3449               8.0        64.0  6.0   5000.0   190.0          2019   \n",
       "3450               8.0       128.0  8.0   4000.0   200.0          2018   \n",
       "3451               5.0        32.0  3.0   4000.0   165.0          2020   \n",
       "3452               5.0        32.0  2.0   4000.0   160.0          2020   \n",
       "3453               5.0        16.0  2.0   4000.0   168.0          2020   \n",
       "\n",
       "      days_used  normalized_used_price  normalized_new_price  \n",
       "0           127               4.307572              4.715100  \n",
       "1           325               5.162097              5.519018  \n",
       "2           162               5.111084              5.884631  \n",
       "3           345               5.135387              5.630961  \n",
       "4           293               4.389995              4.947837  \n",
       "...         ...                    ...                   ...  \n",
       "3449        232               4.492337              6.483872  \n",
       "3450        541               5.037732              6.251538  \n",
       "3451        201               4.357350              4.528829  \n",
       "3452        149               4.349762              4.624188  \n",
       "3453        176               4.132122              4.279994  \n",
       "\n",
       "[3454 rows x 15 columns]"
      ]
     },
     "execution_count": 213,
     "metadata": {},
     "output_type": "execute_result"
    }
   ],
   "source": [
    "df1"
   ]
  },
  {
   "cell_type": "code",
   "execution_count": 214,
   "metadata": {
    "id": "0QfWi8PYhmWI"
   },
   "outputs": [
    {
     "data": {
      "text/plain": [
       "brand_name                 0\n",
       "os                         0\n",
       "screen_size                0\n",
       "4g                         0\n",
       "5g                         0\n",
       "main_camera_mp           179\n",
       "selfie_camera_mp           2\n",
       "int_memory                 4\n",
       "ram                        4\n",
       "battery                    6\n",
       "weight                     7\n",
       "release_year               0\n",
       "days_used                  0\n",
       "normalized_used_price      0\n",
       "normalized_new_price       0\n",
       "dtype: int64"
      ]
     },
     "execution_count": 214,
     "metadata": {},
     "output_type": "execute_result"
    }
   ],
   "source": [
    "# checking for missing values\n",
    "df1.isnull().sum() ## the code to check missing values in all the columns"
   ]
  },
  {
   "cell_type": "code",
   "execution_count": null,
   "metadata": {},
   "outputs": [],
   "source": []
  },
  {
   "cell_type": "code",
   "execution_count": 215,
   "metadata": {
    "id": "KQEug5qNhmWJ"
   },
   "outputs": [
    {
     "data": {
      "text/plain": [
       "brand_name                 0\n",
       "os                         0\n",
       "screen_size                0\n",
       "4g                         0\n",
       "5g                         0\n",
       "main_camera_mp           179\n",
       "selfie_camera_mp           2\n",
       "int_memory                 0\n",
       "ram                        0\n",
       "battery                    6\n",
       "weight                     7\n",
       "release_year               0\n",
       "days_used                  0\n",
       "normalized_used_price      0\n",
       "normalized_new_price       0\n",
       "dtype: int64"
      ]
     },
     "execution_count": 215,
     "metadata": {},
     "output_type": "execute_result"
    }
   ],
   "source": [
    "cols_impute = [\n",
    "    \"main_camera_mp\",\n",
    "    \"selfie_camera_mp\",\n",
    "    \"int_memory\",\n",
    "    \"ram\",\n",
    "    \"battery\",\n",
    "    \"weight\",\n",
    "]\n",
    "\n",
    "for col in cols_impute:\n",
    "    df1[col] = df1[col].fillna(\n",
    "        value=df1.groupby(['release_year','brand_name'])[col].transform(\"median\")\n",
    "    )   ## Complete the code to impute missing values in cols_impute with median by grouping the data on release year and brand name \n",
    "\n",
    "# checking for missing values\n",
    "df1.isnull().sum() ##the code to check missing values after imputing the above columns"
   ]
  },
  {
   "cell_type": "code",
   "execution_count": null,
   "metadata": {},
   "outputs": [],
   "source": [
    "df1[\"main_camera_mp\"] = df1[\"main_camera_mp\"].fillna(df1[\"main_camera_mp\"].median())"
   ]
  },
  {
   "cell_type": "markdown",
   "metadata": {
    "id": "XF_SHRjPhmWJ"
   },
   "source": [
    "- We will impute the remaining missing values in the data by the column medians grouped by `brand_name`."
   ]
  },
  {
   "cell_type": "code",
   "execution_count": 216,
   "metadata": {
    "id": "IzHBI4C6hmWJ"
   },
   "outputs": [
    {
     "data": {
      "text/plain": [
       "brand_name                0\n",
       "os                        0\n",
       "screen_size               0\n",
       "4g                        0\n",
       "5g                        0\n",
       "main_camera_mp           10\n",
       "selfie_camera_mp          0\n",
       "int_memory                0\n",
       "ram                       0\n",
       "battery                   0\n",
       "weight                    0\n",
       "release_year              0\n",
       "days_used                 0\n",
       "normalized_used_price     0\n",
       "normalized_new_price      0\n",
       "dtype: int64"
      ]
     },
     "execution_count": 216,
     "metadata": {},
     "output_type": "execute_result"
    }
   ],
   "source": [
    "cols_impute = [\n",
    "    \"main_camera_mp\",\n",
    "    \"selfie_camera_mp\",\n",
    "    \"battery\",\n",
    "    \"weight\",\n",
    "]\n",
    "\n",
    "for col in cols_impute:\n",
    "    df1[col] = df1[col].fillna(\n",
    "        value=df1.groupby(['brand_name'])[col].transform(\"median\")\n",
    "    ) ##Complete the code to impute the missing values in cols_impute with median by grouping the data on brand name\n",
    "\n",
    "# checking for missing values\n",
    "df1.isnull().sum() ##the code to check missing values after imputing the above columns"
   ]
  },
  {
   "cell_type": "markdown",
   "metadata": {
    "id": "B6JWbAyQhmWJ"
   },
   "source": [
    "- We will fill the remaining missing values in the `main_camera_mp` column by the column median."
   ]
  },
  {
   "cell_type": "code",
   "execution_count": 217,
   "metadata": {
    "id": "uQJgQmzohmWJ"
   },
   "outputs": [
    {
     "data": {
      "text/plain": [
       "brand_name               0\n",
       "os                       0\n",
       "screen_size              0\n",
       "4g                       0\n",
       "5g                       0\n",
       "main_camera_mp           0\n",
       "selfie_camera_mp         0\n",
       "int_memory               0\n",
       "ram                      0\n",
       "battery                  0\n",
       "weight                   0\n",
       "release_year             0\n",
       "days_used                0\n",
       "normalized_used_price    0\n",
       "normalized_new_price     0\n",
       "dtype: int64"
      ]
     },
     "execution_count": 217,
     "metadata": {},
     "output_type": "execute_result"
    }
   ],
   "source": [
    "df1[\"main_camera_mp\"] = df1[\"main_camera_mp\"].fillna(df1[\"main_camera_mp\"].median()) ## Complete the code to impute the data with median\n",
    "\n",
    "# checking for missing values\n",
    "df1.isnull().sum() ##the code to check missing values after imputing the above columns"
   ]
  },
  {
   "cell_type": "markdown",
   "metadata": {
    "id": "OPB6dxxmWq1s"
   },
   "source": [
    "### Feature Engineering"
   ]
  },
  {
   "cell_type": "markdown",
   "metadata": {
    "id": "zYOa-FxlhmWG"
   },
   "source": [
    "\n",
    "\n",
    "- Let's create a new column `years_since_release` from the `release_year` column.\n",
    "- We will consider the year of data collection, 2021, as the baseline.\n",
    "- We will drop the `release_year` column."
   ]
  },
  {
   "cell_type": "code",
   "execution_count": 218,
   "metadata": {
    "id": "ihTY3XRkhmWG"
   },
   "outputs": [
    {
     "data": {
      "text/plain": [
       "count    3454.000000\n",
       "mean        5.034742\n",
       "std         2.298455\n",
       "min         1.000000\n",
       "25%         3.000000\n",
       "50%         5.500000\n",
       "75%         7.000000\n",
       "max         8.000000\n",
       "Name: years_since_release, dtype: float64"
      ]
     },
     "execution_count": 218,
     "metadata": {},
     "output_type": "execute_result"
    }
   ],
   "source": [
    "df1[\"years_since_release\"] = 2021 - df1[\"release_year\"]\n",
    "df1.drop(\"release_year\", axis=1, inplace=True)\n",
    "df1[\"years_since_release\"].describe()"
   ]
  },
  {
   "cell_type": "markdown",
   "metadata": {
    "id": "4jUrmT40Wx7M"
   },
   "source": [
    "### Outlier Check\n"
   ]
  },
  {
   "cell_type": "markdown",
   "metadata": {
    "id": "nLoHqqf1hmWJ"
   },
   "source": [
    "\n",
    "- Let's check for outliers in the data."
   ]
  },
  {
   "cell_type": "code",
   "execution_count": 284,
   "metadata": {
    "id": "2RSTq3PWhmWJ"
   },
   "outputs": [
    {
     "data": {
      "image/png": "[encoded data removed]",
      "text/plain": [
       "<Figure size 1080x720 with 11 Axes>"
      ]
     },
     "metadata": {},
     "output_type": "display_data"
    }
   ],
   "source": [
    "# outlier detection using boxplot\n",
    "num_cols = df1.select_dtypes(include=np.number).columns.tolist()\n",
    "\n",
    "plt.figure(figsize=(15, 10))\n",
    "\n",
    "for i, variable in enumerate(num_cols):\n",
    "    plt.subplot(4, 3, i + 1)\n",
    "    sns.boxplot(data=df1, x=variable)\n",
    "    plt.tight_layout(pad=2)\n",
    "\n",
    "plt.show()"
   ]
  },
  {
   "cell_type": "markdown",
   "metadata": {
    "id": "QChrTYFaKvTk"
   },
   "source": [
    "### Data Preparation for modeling"
   ]
  },
  {
   "cell_type": "markdown",
   "metadata": {
    "id": "wwu8iCRQhmWK"
   },
   "source": [
    "- We want to predict the normalized price of used devices\n",
    "- Before we proceed to build a model, we'll have to encode categorical features\n",
    "- We'll split the data into train and test to be able to evaluate the model that we build on the train data\n",
    "- We will build a Linear Regression model using the train data and then check it's performance"
   ]
  },
  {
   "cell_type": "code",
   "execution_count": 220,
   "metadata": {
    "id": "372WHRhJGpj4"
   },
   "outputs": [
    {
     "name": "stdout",
     "output_type": "stream",
     "text": [
      "  brand_name       os  screen_size   4g   5g  main_camera_mp  \\\n",
      "0      Honor  Android        14.50  yes   no            13.0   \n",
      "1      Honor  Android        17.30  yes  yes            13.0   \n",
      "2      Honor  Android        16.69  yes  yes            13.0   \n",
      "3      Honor  Android        25.50  yes  yes            13.0   \n",
      "4      Honor  Android        15.32  yes   no            13.0   \n",
      "\n",
      "   selfie_camera_mp  int_memory  ram  battery  weight  days_used  \\\n",
      "0               5.0        64.0  3.0   3020.0   146.0        127   \n",
      "1              16.0       128.0  8.0   4300.0   213.0        325   \n",
      "2               8.0       128.0  8.0   4200.0   213.0        162   \n",
      "3               8.0        64.0  6.0   7250.0   480.0        345   \n",
      "4               8.0        64.0  3.0   5000.0   185.0        293   \n",
      "\n",
      "   normalized_new_price  years_since_release  \n",
      "0              4.715100                    1  \n",
      "1              5.519018                    1  \n",
      "2              5.884631                    1  \n",
      "3              5.630961                    1  \n",
      "4              4.947837                    1  \n",
      "\n",
      "0    4.307572\n",
      "1    5.162097\n",
      "2    5.111084\n",
      "3    5.135387\n",
      "4    4.389995\n",
      "Name: normalized_used_price, dtype: float64\n"
     ]
    }
   ],
   "source": [
    "## the code to define the dependent and independent variables\n",
    "X = df1.drop(['normalized_used_price'], axis = 1)\n",
    "y = df1['normalized_used_price']\n",
    "\n",
    "print(X.head())\n",
    "print()\n",
    "print(y.head())"
   ]
  },
  {
   "cell_type": "code",
   "execution_count": 221,
   "metadata": {
    "id": "Py6xQDcfLQLk"
   },
   "outputs": [],
   "source": [
    "# let's add the intercept to data\n",
    "X = sm.add_constant(X)"
   ]
  },
  {
   "cell_type": "code",
   "execution_count": 222,
   "metadata": {
    "id": "xWw6sT0yhmWK"
   },
   "outputs": [
    {
     "data": {
      "text/html": [
       "<div>\n",
       "<style scoped>\n",
       "    .dataframe tbody tr th:only-of-type {\n",
       "        vertical-align: middle;\n",
       "    }\n",
       "\n",
       "    .dataframe tbody tr th {\n",
       "        vertical-align: top;\n",
       "    }\n",
       "\n",
       "    .dataframe thead th {\n",
       "        text-align: right;\n",
       "    }\n",
       "</style>\n",
       "<table border=\"1\" class=\"dataframe\">\n",
       "  <thead>\n",
       "    <tr style=\"text-align: right;\">\n",
       "      <th></th>\n",
       "      <th>const</th>\n",
       "      <th>screen_size</th>\n",
       "      <th>main_camera_mp</th>\n",
       "      <th>selfie_camera_mp</th>\n",
       "      <th>int_memory</th>\n",
       "      <th>ram</th>\n",
       "      <th>battery</th>\n",
       "      <th>weight</th>\n",
       "      <th>days_used</th>\n",
       "      <th>normalized_new_price</th>\n",
       "      <th>...</th>\n",
       "      <th>brand_name_Spice</th>\n",
       "      <th>brand_name_Vivo</th>\n",
       "      <th>brand_name_XOLO</th>\n",
       "      <th>brand_name_Xiaomi</th>\n",
       "      <th>brand_name_ZTE</th>\n",
       "      <th>os_Others</th>\n",
       "      <th>os_Windows</th>\n",
       "      <th>os_iOS</th>\n",
       "      <th>4g_yes</th>\n",
       "      <th>5g_yes</th>\n",
       "    </tr>\n",
       "  </thead>\n",
       "  <tbody>\n",
       "    <tr>\n",
       "      <th>0</th>\n",
       "      <td>1.0</td>\n",
       "      <td>14.50</td>\n",
       "      <td>13.0</td>\n",
       "      <td>5.0</td>\n",
       "      <td>64.0</td>\n",
       "      <td>3.0</td>\n",
       "      <td>3020.0</td>\n",
       "      <td>146.0</td>\n",
       "      <td>127</td>\n",
       "      <td>4.715100</td>\n",
       "      <td>...</td>\n",
       "      <td>0</td>\n",
       "      <td>0</td>\n",
       "      <td>0</td>\n",
       "      <td>0</td>\n",
       "      <td>0</td>\n",
       "      <td>0</td>\n",
       "      <td>0</td>\n",
       "      <td>0</td>\n",
       "      <td>1</td>\n",
       "      <td>0</td>\n",
       "    </tr>\n",
       "    <tr>\n",
       "      <th>1</th>\n",
       "      <td>1.0</td>\n",
       "      <td>17.30</td>\n",
       "      <td>13.0</td>\n",
       "      <td>16.0</td>\n",
       "      <td>128.0</td>\n",
       "      <td>8.0</td>\n",
       "      <td>4300.0</td>\n",
       "      <td>213.0</td>\n",
       "      <td>325</td>\n",
       "      <td>5.519018</td>\n",
       "      <td>...</td>\n",
       "      <td>0</td>\n",
       "      <td>0</td>\n",
       "      <td>0</td>\n",
       "      <td>0</td>\n",
       "      <td>0</td>\n",
       "      <td>0</td>\n",
       "      <td>0</td>\n",
       "      <td>0</td>\n",
       "      <td>1</td>\n",
       "      <td>1</td>\n",
       "    </tr>\n",
       "    <tr>\n",
       "      <th>2</th>\n",
       "      <td>1.0</td>\n",
       "      <td>16.69</td>\n",
       "      <td>13.0</td>\n",
       "      <td>8.0</td>\n",
       "      <td>128.0</td>\n",
       "      <td>8.0</td>\n",
       "      <td>4200.0</td>\n",
       "      <td>213.0</td>\n",
       "      <td>162</td>\n",
       "      <td>5.884631</td>\n",
       "      <td>...</td>\n",
       "      <td>0</td>\n",
       "      <td>0</td>\n",
       "      <td>0</td>\n",
       "      <td>0</td>\n",
       "      <td>0</td>\n",
       "      <td>0</td>\n",
       "      <td>0</td>\n",
       "      <td>0</td>\n",
       "      <td>1</td>\n",
       "      <td>1</td>\n",
       "    </tr>\n",
       "    <tr>\n",
       "      <th>3</th>\n",
       "      <td>1.0</td>\n",
       "      <td>25.50</td>\n",
       "      <td>13.0</td>\n",
       "      <td>8.0</td>\n",
       "      <td>64.0</td>\n",
       "      <td>6.0</td>\n",
       "      <td>7250.0</td>\n",
       "      <td>480.0</td>\n",
       "      <td>345</td>\n",
       "      <td>5.630961</td>\n",
       "      <td>...</td>\n",
       "      <td>0</td>\n",
       "      <td>0</td>\n",
       "      <td>0</td>\n",
       "      <td>0</td>\n",
       "      <td>0</td>\n",
       "      <td>0</td>\n",
       "      <td>0</td>\n",
       "      <td>0</td>\n",
       "      <td>1</td>\n",
       "      <td>1</td>\n",
       "    </tr>\n",
       "    <tr>\n",
       "      <th>4</th>\n",
       "      <td>1.0</td>\n",
       "      <td>15.32</td>\n",
       "      <td>13.0</td>\n",
       "      <td>8.0</td>\n",
       "      <td>64.0</td>\n",
       "      <td>3.0</td>\n",
       "      <td>5000.0</td>\n",
       "      <td>185.0</td>\n",
       "      <td>293</td>\n",
       "      <td>4.947837</td>\n",
       "      <td>...</td>\n",
       "      <td>0</td>\n",
       "      <td>0</td>\n",
       "      <td>0</td>\n",
       "      <td>0</td>\n",
       "      <td>0</td>\n",
       "      <td>0</td>\n",
       "      <td>0</td>\n",
       "      <td>0</td>\n",
       "      <td>1</td>\n",
       "      <td>0</td>\n",
       "    </tr>\n",
       "  </tbody>\n",
       "</table>\n",
       "<p>5 rows × 49 columns</p>\n",
       "</div>"
      ],
      "text/plain": [
       "   const  screen_size  main_camera_mp  selfie_camera_mp  int_memory  ram  \\\n",
       "0    1.0        14.50            13.0               5.0        64.0  3.0   \n",
       "1    1.0        17.30            13.0              16.0       128.0  8.0   \n",
       "2    1.0        16.69            13.0               8.0       128.0  8.0   \n",
       "3    1.0        25.50            13.0               8.0        64.0  6.0   \n",
       "4    1.0        15.32            13.0               8.0        64.0  3.0   \n",
       "\n",
       "   battery  weight  days_used  normalized_new_price  ...  brand_name_Spice  \\\n",
       "0   3020.0   146.0        127              4.715100  ...                 0   \n",
       "1   4300.0   213.0        325              5.519018  ...                 0   \n",
       "2   4200.0   213.0        162              5.884631  ...                 0   \n",
       "3   7250.0   480.0        345              5.630961  ...                 0   \n",
       "4   5000.0   185.0        293              4.947837  ...                 0   \n",
       "\n",
       "   brand_name_Vivo  brand_name_XOLO  brand_name_Xiaomi  brand_name_ZTE  \\\n",
       "0                0                0                  0               0   \n",
       "1                0                0                  0               0   \n",
       "2                0                0                  0               0   \n",
       "3                0                0                  0               0   \n",
       "4                0                0                  0               0   \n",
       "\n",
       "   os_Others  os_Windows  os_iOS  4g_yes  5g_yes  \n",
       "0          0           0       0       1       0  \n",
       "1          0           0       0       1       1  \n",
       "2          0           0       0       1       1  \n",
       "3          0           0       0       1       1  \n",
       "4          0           0       0       1       0  \n",
       "\n",
       "[5 rows x 49 columns]"
      ]
     },
     "execution_count": 222,
     "metadata": {},
     "output_type": "execute_result"
    }
   ],
   "source": [
    "# creating dummy variables\n",
    "X = pd.get_dummies(\n",
    "    X,\n",
    "    columns=X.select_dtypes(include=[\"object\", \"category\"]).columns.tolist(),\n",
    "    drop_first=True,\n",
    ")  ## the code to create dummies for independent features\n",
    "\n",
    "X.head()"
   ]
  },
  {
   "cell_type": "code",
   "execution_count": 223,
   "metadata": {
    "id": "CBXfTtAPGoaF"
   },
   "outputs": [],
   "source": [
    "# splitting the data in 70:30 ratio for train to test data\n",
    "\n",
    "x_train, x_test, y_train, y_test = train_test_split(X,y,test_size = 0.3, random_state = 1) ##the code to split the data into train and test in specified ratio"
   ]
  },
  {
   "cell_type": "code",
   "execution_count": 224,
   "metadata": {
    "id": "xUGp866qhmWK"
   },
   "outputs": [
    {
     "name": "stdout",
     "output_type": "stream",
     "text": [
      "Number of rows in train data = 2417\n",
      "Number of rows in test data = 1037\n"
     ]
    }
   ],
   "source": [
    "print(\"Number of rows in train data =\", x_train.shape[0])\n",
    "print(\"Number of rows in test data =\", x_test.shape[0])"
   ]
  },
  {
   "cell_type": "markdown",
   "metadata": {
    "id": "1JsqBJEohmWK"
   },
   "source": [
    "## Model Building - Linear Regression\n"
   ]
  },
  {
   "cell_type": "code",
   "execution_count": 142,
   "metadata": {},
   "outputs": [],
   "source": [
    "#df1 = df1.dropna()"
   ]
  },
  {
   "cell_type": "code",
   "execution_count": 225,
   "metadata": {
    "id": "-uylJTNMqH8b",
    "scrolled": false
   },
   "outputs": [
    {
     "name": "stdout",
     "output_type": "stream",
     "text": [
      "                              OLS Regression Results                             \n",
      "=================================================================================\n",
      "Dep. Variable:     normalized_used_price   R-squared:                       0.845\n",
      "Model:                               OLS   Adj. R-squared:                  0.842\n",
      "Method:                    Least Squares   F-statistic:                     268.7\n",
      "Date:                   Fri, 07 Oct 2022   Prob (F-statistic):               0.00\n",
      "Time:                           15:42:24   Log-Likelihood:                 123.85\n",
      "No. Observations:                   2417   AIC:                            -149.7\n",
      "Df Residuals:                       2368   BIC:                             134.0\n",
      "Df Model:                             48                                         \n",
      "Covariance Type:               nonrobust                                         \n",
      "=========================================================================================\n",
      "                            coef    std err          t      P>|t|      [0.025      0.975]\n",
      "-----------------------------------------------------------------------------------------\n",
      "const                     1.3156      0.071     18.454      0.000       1.176       1.455\n",
      "screen_size               0.0244      0.003      7.163      0.000       0.018       0.031\n",
      "main_camera_mp            0.0208      0.002     13.848      0.000       0.018       0.024\n",
      "selfie_camera_mp          0.0135      0.001     11.997      0.000       0.011       0.016\n",
      "int_memory                0.0001   6.97e-05      1.651      0.099   -2.16e-05       0.000\n",
      "ram                       0.0230      0.005      4.451      0.000       0.013       0.033\n",
      "battery               -1.689e-05   7.27e-06     -2.321      0.020   -3.12e-05   -2.62e-06\n",
      "weight                    0.0010      0.000      7.480      0.000       0.001       0.001\n",
      "days_used              4.216e-05   3.09e-05      1.366      0.172   -1.84e-05       0.000\n",
      "normalized_new_price      0.4311      0.012     35.147      0.000       0.407       0.455\n",
      "years_since_release      -0.0237      0.005     -5.193      0.000      -0.033      -0.015\n",
      "brand_name_Alcatel        0.0154      0.048      0.323      0.747      -0.078       0.109\n",
      "brand_name_Apple         -0.0038      0.147     -0.026      0.980      -0.292       0.285\n",
      "brand_name_Asus           0.0151      0.048      0.314      0.753      -0.079       0.109\n",
      "brand_name_BlackBerry    -0.0300      0.070     -0.427      0.669      -0.168       0.108\n",
      "brand_name_Celkon        -0.0468      0.066     -0.707      0.480      -0.177       0.083\n",
      "brand_name_Coolpad        0.0209      0.073      0.287      0.774      -0.122       0.164\n",
      "brand_name_Gionee         0.0448      0.058      0.775      0.438      -0.068       0.158\n",
      "brand_name_Google        -0.0326      0.085     -0.385      0.700      -0.199       0.133\n",
      "brand_name_HTC           -0.0130      0.048     -0.270      0.787      -0.108       0.081\n",
      "brand_name_Honor          0.0317      0.049      0.644      0.520      -0.065       0.128\n",
      "brand_name_Huawei        -0.0020      0.044     -0.046      0.964      -0.089       0.085\n",
      "brand_name_Infinix        0.1633      0.093      1.752      0.080      -0.019       0.346\n",
      "brand_name_Karbonn        0.0943      0.067      1.405      0.160      -0.037       0.226\n",
      "brand_name_LG            -0.0132      0.045     -0.291      0.771      -0.102       0.076\n",
      "brand_name_Lava           0.0332      0.062      0.533      0.594      -0.089       0.155\n",
      "brand_name_Lenovo         0.0454      0.045      1.004      0.316      -0.043       0.134\n",
      "brand_name_Meizu         -0.0129      0.056     -0.230      0.818      -0.123       0.097\n",
      "brand_name_Micromax      -0.0337      0.048     -0.704      0.481      -0.128       0.060\n",
      "brand_name_Microsoft      0.0952      0.088      1.078      0.281      -0.078       0.268\n",
      "brand_name_Motorola      -0.0112      0.050     -0.226      0.821      -0.109       0.086\n",
      "brand_name_Nokia          0.0719      0.052      1.387      0.166      -0.030       0.174\n",
      "brand_name_OnePlus        0.0709      0.077      0.916      0.360      -0.081       0.223\n",
      "brand_name_Oppo           0.0124      0.048      0.261      0.794      -0.081       0.106\n",
      "brand_name_Others        -0.0080      0.042     -0.190      0.849      -0.091       0.075\n",
      "brand_name_Panasonic      0.0563      0.056      1.008      0.314      -0.053       0.166\n",
      "brand_name_Realme         0.0319      0.062      0.518      0.605      -0.089       0.153\n",
      "brand_name_Samsung       -0.0313      0.043     -0.725      0.469      -0.116       0.053\n",
      "brand_name_Sony          -0.0616      0.050     -1.220      0.223      -0.161       0.037\n",
      "brand_name_Spice         -0.0147      0.063     -0.233      0.816      -0.139       0.109\n",
      "brand_name_Vivo          -0.0154      0.048     -0.318      0.750      -0.110       0.080\n",
      "brand_name_XOLO           0.0152      0.055      0.277      0.782      -0.092       0.123\n",
      "brand_name_Xiaomi         0.0869      0.048      1.806      0.071      -0.007       0.181\n",
      "brand_name_ZTE           -0.0057      0.047     -0.121      0.904      -0.099       0.087\n",
      "os_Others                -0.0510      0.033     -1.555      0.120      -0.115       0.013\n",
      "os_Windows               -0.0207      0.045     -0.459      0.646      -0.109       0.068\n",
      "os_iOS                   -0.0663      0.146     -0.453      0.651      -0.354       0.221\n",
      "4g_yes                    0.0528      0.016      3.326      0.001       0.022       0.084\n",
      "5g_yes                   -0.0714      0.031     -2.268      0.023      -0.133      -0.010\n",
      "==============================================================================\n",
      "Omnibus:                      223.612   Durbin-Watson:                   1.910\n",
      "Prob(Omnibus):                  0.000   Jarque-Bera (JB):              422.275\n",
      "Skew:                          -0.620   Prob(JB):                     2.01e-92\n",
      "Kurtosis:                       4.630   Cond. No.                     1.78e+05\n",
      "==============================================================================\n",
      "\n",
      "Notes:\n",
      "[1] Standard Errors assume that the covariance matrix of the errors is correctly specified.\n",
      "[2] The condition number is large, 1.78e+05. This might indicate that there are\n",
      "strong multicollinearity or other numerical problems.\n"
     ]
    }
   ],
   "source": [
    "olsmodel1 = sm.OLS(y_train, x_train).fit() ## the code to fit OLS model\n",
    "print(olsmodel1.summary())"
   ]
  },
  {
   "cell_type": "code",
   "execution_count": null,
   "metadata": {},
   "outputs": [],
   "source": []
  },
  {
   "cell_type": "markdown",
   "metadata": {
    "id": "9dgIbf7ALlYm"
   },
   "source": [
    "### Model Performance Check"
   ]
  },
  {
   "cell_type": "markdown",
   "metadata": {
    "id": "5MyYq4vaKffS"
   },
   "source": [
    "**Let's check the performance of the model using different metrics.**\n",
    "\n",
    "* We will be using metric functions defined in sklearn for RMSE, MAE, and $R^2$.\n",
    "* We will define a function to calculate MAPE and adjusted $R^2$.    \n",
    "* We will create a function which will print out all the above metrics in one go."
   ]
  },
  {
   "cell_type": "code",
   "execution_count": 226,
   "metadata": {
    "id": "deaapIIvlJIL"
   },
   "outputs": [],
   "source": [
    "# function to compute adjusted R-squared\n",
    "def adj_r2_score(predictors, targets, predictions):\n",
    "    r2 = r2_score(targets, predictions)\n",
    "    n = predictors.shape[0]\n",
    "    k = predictors.shape[1]\n",
    "    return 1 - ((1 - r2) * (n - 1) / (n - k - 1))\n",
    "\n",
    "\n",
    "# function to compute MAPE\n",
    "def mape_score(targets, predictions):\n",
    "    return np.mean(np.abs(targets - predictions) / targets) * 100\n",
    "\n",
    "\n",
    "# function to compute different metrics to check performance of a regression model\n",
    "def model_performance_regression(model, predictors, target):\n",
    "    \"\"\"\n",
    "    Function to compute different metrics to check regression model performance\n",
    "\n",
    "    model: regressor\n",
    "    predictors: independent variables\n",
    "    target: dependent variable\n",
    "    \"\"\"\n",
    "\n",
    "    # predicting using the independent variables\n",
    "    pred = model.predict(predictors)\n",
    "\n",
    "    r2 = r2_score(target, pred)  # to compute R-squared\n",
    "    adjr2 = adj_r2_score(predictors, target, pred)  # to compute adjusted R-squared\n",
    "    rmse = np.sqrt(mean_squared_error(target, pred))  # to compute RMSE\n",
    "    mae = mean_absolute_error(target, pred)  # to compute MAE\n",
    "    mape = mape_score(target, pred)  # to compute MAPE\n",
    "\n",
    "    # creating a dataframe of metrics\n",
    "    df_perf = pd.DataFrame(\n",
    "        {\n",
    "            \"RMSE\": rmse,\n",
    "            \"MAE\": mae,\n",
    "            \"R-squared\": r2,\n",
    "            \"Adj. R-squared\": adjr2,\n",
    "            \"MAPE\": mape,\n",
    "        },\n",
    "        index=[0],\n",
    "    )\n",
    "\n",
    "    return df_perf"
   ]
  },
  {
   "cell_type": "code",
   "execution_count": 227,
   "metadata": {
    "id": "vVBBaPtf-BZd"
   },
   "outputs": [
    {
     "name": "stdout",
     "output_type": "stream",
     "text": [
      "Training Performance\n",
      "\n"
     ]
    },
    {
     "data": {
      "text/html": [
       "<div>\n",
       "<style scoped>\n",
       "    .dataframe tbody tr th:only-of-type {\n",
       "        vertical-align: middle;\n",
       "    }\n",
       "\n",
       "    .dataframe tbody tr th {\n",
       "        vertical-align: top;\n",
       "    }\n",
       "\n",
       "    .dataframe thead th {\n",
       "        text-align: right;\n",
       "    }\n",
       "</style>\n",
       "<table border=\"1\" class=\"dataframe\">\n",
       "  <thead>\n",
       "    <tr style=\"text-align: right;\">\n",
       "      <th></th>\n",
       "      <th>RMSE</th>\n",
       "      <th>MAE</th>\n",
       "      <th>R-squared</th>\n",
       "      <th>Adj. R-squared</th>\n",
       "      <th>MAPE</th>\n",
       "    </tr>\n",
       "  </thead>\n",
       "  <tbody>\n",
       "    <tr>\n",
       "      <th>0</th>\n",
       "      <td>0.229884</td>\n",
       "      <td>0.180326</td>\n",
       "      <td>0.844886</td>\n",
       "      <td>0.841675</td>\n",
       "      <td>4.326841</td>\n",
       "    </tr>\n",
       "  </tbody>\n",
       "</table>\n",
       "</div>"
      ],
      "text/plain": [
       "       RMSE       MAE  R-squared  Adj. R-squared      MAPE\n",
       "0  0.229884  0.180326   0.844886        0.841675  4.326841"
      ]
     },
     "execution_count": 227,
     "metadata": {},
     "output_type": "execute_result"
    }
   ],
   "source": [
    "# checking model performance on train set (seen 70% data)\n",
    "print(\"Training Performance\\n\")\n",
    "olsmodel1_train_perf = model_performance_regression(olsmodel1, x_train, y_train)\n",
    "olsmodel1_train_perf"
   ]
  },
  {
   "cell_type": "code",
   "execution_count": 230,
   "metadata": {
    "id": "Sv51vNBhlJIL"
   },
   "outputs": [
    {
     "name": "stdout",
     "output_type": "stream",
     "text": [
      "Test Performance\n",
      "\n"
     ]
    },
    {
     "data": {
      "text/html": [
       "<div>\n",
       "<style scoped>\n",
       "    .dataframe tbody tr th:only-of-type {\n",
       "        vertical-align: middle;\n",
       "    }\n",
       "\n",
       "    .dataframe tbody tr th {\n",
       "        vertical-align: top;\n",
       "    }\n",
       "\n",
       "    .dataframe thead th {\n",
       "        text-align: right;\n",
       "    }\n",
       "</style>\n",
       "<table border=\"1\" class=\"dataframe\">\n",
       "  <thead>\n",
       "    <tr style=\"text-align: right;\">\n",
       "      <th></th>\n",
       "      <th>RMSE</th>\n",
       "      <th>MAE</th>\n",
       "      <th>R-squared</th>\n",
       "      <th>Adj. R-squared</th>\n",
       "      <th>MAPE</th>\n",
       "    </tr>\n",
       "  </thead>\n",
       "  <tbody>\n",
       "    <tr>\n",
       "      <th>0</th>\n",
       "      <td>0.238358</td>\n",
       "      <td>0.184749</td>\n",
       "      <td>0.842479</td>\n",
       "      <td>0.834659</td>\n",
       "      <td>4.501651</td>\n",
       "    </tr>\n",
       "  </tbody>\n",
       "</table>\n",
       "</div>"
      ],
      "text/plain": [
       "       RMSE       MAE  R-squared  Adj. R-squared      MAPE\n",
       "0  0.238358  0.184749   0.842479        0.834659  4.501651"
      ]
     },
     "execution_count": 230,
     "metadata": {},
     "output_type": "execute_result"
    }
   ],
   "source": [
    "# checking model performance on test set (seen 30% data)\n",
    "print(\"Test Performance\\n\")\n",
    "olsmodel1_test_perf = model_performance_regression(olsmodel1, x_test, y_test) ## Complete the code to check the performance on test data\n",
    "olsmodel1_test_perf"
   ]
  },
  {
   "cell_type": "markdown",
   "metadata": {
    "id": "a9GxSQf-qH8e"
   },
   "source": [
    "## Checking Linear Regression Assumptions"
   ]
  },
  {
   "cell_type": "markdown",
   "metadata": {
    "id": "5Wr6XkwoqH8f"
   },
   "source": [
    "We will be checking the following Linear Regression assumptions:\n",
    "\n",
    "1. **No Multicollinearity**\n",
    "\n",
    "2. **Linearity of variables**\n",
    "\n",
    "3. **Independence of error terms**\n",
    "\n",
    "4. **Normality of error terms**\n",
    "\n",
    "5. **No Heteroscedasticity**"
   ]
  },
  {
   "cell_type": "markdown",
   "metadata": {
    "id": "SB4GanGWSOBT"
   },
   "source": [
    "### TEST FOR MULTICOLLINEARITY\n"
   ]
  },
  {
   "cell_type": "markdown",
   "metadata": {
    "id": "mROHQdzZqH8f"
   },
   "source": [
    "\n",
    "- We will test for multicollinearity using VIF.\n",
    "\n",
    "- **General Rule of thumb**:\n",
    "    - If VIF is 1 then there is no correlation between the $k$th predictor and the remaining predictor variables.\n",
    "    - If VIF exceeds 5 or is close to exceeding 5, we say there is moderate multicollinearity.\n",
    "    - If VIF is 10 or exceeding 10, it shows signs of high multicollinearity."
   ]
  },
  {
   "cell_type": "markdown",
   "metadata": {
    "id": "Hm6Y_e-mTvDl"
   },
   "source": [
    "Let's define a function to check VIF."
   ]
  },
  {
   "cell_type": "code",
   "execution_count": 240,
   "metadata": {
    "id": "ZV-69rVWqH8g"
   },
   "outputs": [],
   "source": [
    "#Let's define a function to check VIF.def checking_vif(predictors):\n",
    "from statsmodels.stats.outliers_influence import variance_inflation_factor\n",
    "def checking_vif(predictors):\n",
    "    vif = pd.DataFrame()\n",
    "    vif[\"feature\"] = predictors.columns\n",
    "\n",
    "    # calculating VIF for each feature\n",
    "    vif[\"VIF\"] = [\n",
    "        variance_inflation_factor(predictors.values, i)\n",
    "        for i in range(len(predictors.columns))\n",
    "    ]\n",
    "    return vif"
   ]
  },
  {
   "cell_type": "code",
   "execution_count": 242,
   "metadata": {
    "id": "xPdvX4xZhmWL"
   },
   "outputs": [
    {
     "data": {
      "text/html": [
       "<div>\n",
       "<style scoped>\n",
       "    .dataframe tbody tr th:only-of-type {\n",
       "        vertical-align: middle;\n",
       "    }\n",
       "\n",
       "    .dataframe tbody tr th {\n",
       "        vertical-align: top;\n",
       "    }\n",
       "\n",
       "    .dataframe thead th {\n",
       "        text-align: right;\n",
       "    }\n",
       "</style>\n",
       "<table border=\"1\" class=\"dataframe\">\n",
       "  <thead>\n",
       "    <tr style=\"text-align: right;\">\n",
       "      <th></th>\n",
       "      <th>feature</th>\n",
       "      <th>VIF</th>\n",
       "    </tr>\n",
       "  </thead>\n",
       "  <tbody>\n",
       "    <tr>\n",
       "      <th>0</th>\n",
       "      <td>const</td>\n",
       "      <td>227.744081</td>\n",
       "    </tr>\n",
       "    <tr>\n",
       "      <th>1</th>\n",
       "      <td>screen_size</td>\n",
       "      <td>7.677290</td>\n",
       "    </tr>\n",
       "    <tr>\n",
       "      <th>2</th>\n",
       "      <td>main_camera_mp</td>\n",
       "      <td>2.285051</td>\n",
       "    </tr>\n",
       "    <tr>\n",
       "      <th>3</th>\n",
       "      <td>selfie_camera_mp</td>\n",
       "      <td>2.812473</td>\n",
       "    </tr>\n",
       "    <tr>\n",
       "      <th>4</th>\n",
       "      <td>int_memory</td>\n",
       "      <td>1.364152</td>\n",
       "    </tr>\n",
       "    <tr>\n",
       "      <th>5</th>\n",
       "      <td>ram</td>\n",
       "      <td>2.282352</td>\n",
       "    </tr>\n",
       "    <tr>\n",
       "      <th>6</th>\n",
       "      <td>battery</td>\n",
       "      <td>4.081780</td>\n",
       "    </tr>\n",
       "    <tr>\n",
       "      <th>7</th>\n",
       "      <td>weight</td>\n",
       "      <td>6.396749</td>\n",
       "    </tr>\n",
       "    <tr>\n",
       "      <th>8</th>\n",
       "      <td>days_used</td>\n",
       "      <td>2.660269</td>\n",
       "    </tr>\n",
       "    <tr>\n",
       "      <th>9</th>\n",
       "      <td>normalized_new_price</td>\n",
       "      <td>3.119430</td>\n",
       "    </tr>\n",
       "    <tr>\n",
       "      <th>10</th>\n",
       "      <td>years_since_release</td>\n",
       "      <td>4.899007</td>\n",
       "    </tr>\n",
       "    <tr>\n",
       "      <th>11</th>\n",
       "      <td>brand_name_Alcatel</td>\n",
       "      <td>3.405693</td>\n",
       "    </tr>\n",
       "    <tr>\n",
       "      <th>12</th>\n",
       "      <td>brand_name_Apple</td>\n",
       "      <td>13.057668</td>\n",
       "    </tr>\n",
       "    <tr>\n",
       "      <th>13</th>\n",
       "      <td>brand_name_Asus</td>\n",
       "      <td>3.332038</td>\n",
       "    </tr>\n",
       "    <tr>\n",
       "      <th>14</th>\n",
       "      <td>brand_name_BlackBerry</td>\n",
       "      <td>1.632378</td>\n",
       "    </tr>\n",
       "    <tr>\n",
       "      <th>15</th>\n",
       "      <td>brand_name_Celkon</td>\n",
       "      <td>1.774721</td>\n",
       "    </tr>\n",
       "    <tr>\n",
       "      <th>16</th>\n",
       "      <td>brand_name_Coolpad</td>\n",
       "      <td>1.468006</td>\n",
       "    </tr>\n",
       "    <tr>\n",
       "      <th>17</th>\n",
       "      <td>brand_name_Gionee</td>\n",
       "      <td>1.951272</td>\n",
       "    </tr>\n",
       "    <tr>\n",
       "      <th>18</th>\n",
       "      <td>brand_name_Google</td>\n",
       "      <td>1.321778</td>\n",
       "    </tr>\n",
       "    <tr>\n",
       "      <th>19</th>\n",
       "      <td>brand_name_HTC</td>\n",
       "      <td>3.410361</td>\n",
       "    </tr>\n",
       "    <tr>\n",
       "      <th>20</th>\n",
       "      <td>brand_name_Honor</td>\n",
       "      <td>3.340687</td>\n",
       "    </tr>\n",
       "    <tr>\n",
       "      <th>21</th>\n",
       "      <td>brand_name_Huawei</td>\n",
       "      <td>5.983852</td>\n",
       "    </tr>\n",
       "    <tr>\n",
       "      <th>22</th>\n",
       "      <td>brand_name_Infinix</td>\n",
       "      <td>1.283955</td>\n",
       "    </tr>\n",
       "    <tr>\n",
       "      <th>23</th>\n",
       "      <td>brand_name_Karbonn</td>\n",
       "      <td>1.573702</td>\n",
       "    </tr>\n",
       "    <tr>\n",
       "      <th>24</th>\n",
       "      <td>brand_name_LG</td>\n",
       "      <td>4.849832</td>\n",
       "    </tr>\n",
       "    <tr>\n",
       "      <th>25</th>\n",
       "      <td>brand_name_Lava</td>\n",
       "      <td>1.711360</td>\n",
       "    </tr>\n",
       "    <tr>\n",
       "      <th>26</th>\n",
       "      <td>brand_name_Lenovo</td>\n",
       "      <td>4.558941</td>\n",
       "    </tr>\n",
       "    <tr>\n",
       "      <th>27</th>\n",
       "      <td>brand_name_Meizu</td>\n",
       "      <td>2.179607</td>\n",
       "    </tr>\n",
       "    <tr>\n",
       "      <th>28</th>\n",
       "      <td>brand_name_Micromax</td>\n",
       "      <td>3.363521</td>\n",
       "    </tr>\n",
       "    <tr>\n",
       "      <th>29</th>\n",
       "      <td>brand_name_Microsoft</td>\n",
       "      <td>1.869751</td>\n",
       "    </tr>\n",
       "    <tr>\n",
       "      <th>30</th>\n",
       "      <td>brand_name_Motorola</td>\n",
       "      <td>3.274558</td>\n",
       "    </tr>\n",
       "    <tr>\n",
       "      <th>31</th>\n",
       "      <td>brand_name_Nokia</td>\n",
       "      <td>3.479849</td>\n",
       "    </tr>\n",
       "    <tr>\n",
       "      <th>32</th>\n",
       "      <td>brand_name_OnePlus</td>\n",
       "      <td>1.437034</td>\n",
       "    </tr>\n",
       "    <tr>\n",
       "      <th>33</th>\n",
       "      <td>brand_name_Oppo</td>\n",
       "      <td>3.971194</td>\n",
       "    </tr>\n",
       "    <tr>\n",
       "      <th>34</th>\n",
       "      <td>brand_name_Others</td>\n",
       "      <td>9.711034</td>\n",
       "    </tr>\n",
       "    <tr>\n",
       "      <th>35</th>\n",
       "      <td>brand_name_Panasonic</td>\n",
       "      <td>2.105703</td>\n",
       "    </tr>\n",
       "    <tr>\n",
       "      <th>36</th>\n",
       "      <td>brand_name_Realme</td>\n",
       "      <td>1.946812</td>\n",
       "    </tr>\n",
       "    <tr>\n",
       "      <th>37</th>\n",
       "      <td>brand_name_Samsung</td>\n",
       "      <td>7.539866</td>\n",
       "    </tr>\n",
       "    <tr>\n",
       "      <th>38</th>\n",
       "      <td>brand_name_Sony</td>\n",
       "      <td>2.943161</td>\n",
       "    </tr>\n",
       "    <tr>\n",
       "      <th>39</th>\n",
       "      <td>brand_name_Spice</td>\n",
       "      <td>1.688863</td>\n",
       "    </tr>\n",
       "    <tr>\n",
       "      <th>40</th>\n",
       "      <td>brand_name_Vivo</td>\n",
       "      <td>3.651437</td>\n",
       "    </tr>\n",
       "    <tr>\n",
       "      <th>41</th>\n",
       "      <td>brand_name_XOLO</td>\n",
       "      <td>2.138070</td>\n",
       "    </tr>\n",
       "    <tr>\n",
       "      <th>42</th>\n",
       "      <td>brand_name_Xiaomi</td>\n",
       "      <td>3.719689</td>\n",
       "    </tr>\n",
       "    <tr>\n",
       "      <th>43</th>\n",
       "      <td>brand_name_ZTE</td>\n",
       "      <td>3.797581</td>\n",
       "    </tr>\n",
       "    <tr>\n",
       "      <th>44</th>\n",
       "      <td>os_Others</td>\n",
       "      <td>1.859863</td>\n",
       "    </tr>\n",
       "    <tr>\n",
       "      <th>45</th>\n",
       "      <td>os_Windows</td>\n",
       "      <td>1.596034</td>\n",
       "    </tr>\n",
       "    <tr>\n",
       "      <th>46</th>\n",
       "      <td>os_iOS</td>\n",
       "      <td>11.784684</td>\n",
       "    </tr>\n",
       "    <tr>\n",
       "      <th>47</th>\n",
       "      <td>4g_yes</td>\n",
       "      <td>2.467681</td>\n",
       "    </tr>\n",
       "    <tr>\n",
       "      <th>48</th>\n",
       "      <td>5g_yes</td>\n",
       "      <td>1.813900</td>\n",
       "    </tr>\n",
       "  </tbody>\n",
       "</table>\n",
       "</div>"
      ],
      "text/plain": [
       "                  feature         VIF\n",
       "0                   const  227.744081\n",
       "1             screen_size    7.677290\n",
       "2          main_camera_mp    2.285051\n",
       "3        selfie_camera_mp    2.812473\n",
       "4              int_memory    1.364152\n",
       "5                     ram    2.282352\n",
       "6                 battery    4.081780\n",
       "7                  weight    6.396749\n",
       "8               days_used    2.660269\n",
       "9    normalized_new_price    3.119430\n",
       "10    years_since_release    4.899007\n",
       "11     brand_name_Alcatel    3.405693\n",
       "12       brand_name_Apple   13.057668\n",
       "13        brand_name_Asus    3.332038\n",
       "14  brand_name_BlackBerry    1.632378\n",
       "15      brand_name_Celkon    1.774721\n",
       "16     brand_name_Coolpad    1.468006\n",
       "17      brand_name_Gionee    1.951272\n",
       "18      brand_name_Google    1.321778\n",
       "19         brand_name_HTC    3.410361\n",
       "20       brand_name_Honor    3.340687\n",
       "21      brand_name_Huawei    5.983852\n",
       "22     brand_name_Infinix    1.283955\n",
       "23     brand_name_Karbonn    1.573702\n",
       "24          brand_name_LG    4.849832\n",
       "25        brand_name_Lava    1.711360\n",
       "26      brand_name_Lenovo    4.558941\n",
       "27       brand_name_Meizu    2.179607\n",
       "28    brand_name_Micromax    3.363521\n",
       "29   brand_name_Microsoft    1.869751\n",
       "30    brand_name_Motorola    3.274558\n",
       "31       brand_name_Nokia    3.479849\n",
       "32     brand_name_OnePlus    1.437034\n",
       "33        brand_name_Oppo    3.971194\n",
       "34      brand_name_Others    9.711034\n",
       "35   brand_name_Panasonic    2.105703\n",
       "36      brand_name_Realme    1.946812\n",
       "37     brand_name_Samsung    7.539866\n",
       "38        brand_name_Sony    2.943161\n",
       "39       brand_name_Spice    1.688863\n",
       "40        brand_name_Vivo    3.651437\n",
       "41        brand_name_XOLO    2.138070\n",
       "42      brand_name_Xiaomi    3.719689\n",
       "43         brand_name_ZTE    3.797581\n",
       "44              os_Others    1.859863\n",
       "45             os_Windows    1.596034\n",
       "46                 os_iOS   11.784684\n",
       "47                 4g_yes    2.467681\n",
       "48                 5g_yes    1.813900"
      ]
     },
     "execution_count": 242,
     "metadata": {},
     "output_type": "execute_result"
    }
   ],
   "source": [
    "checking_vif(x_train)  ## the code to check VIF on train data"
   ]
  },
  {
   "cell_type": "markdown",
   "metadata": {
    "id": "ulUc-ceISeyu"
   },
   "source": [
    "### Removing Multicollinearity (if needed)\n"
   ]
  },
  {
   "cell_type": "markdown",
   "metadata": {
    "id": "XSiS4SRaqH8q"
   },
   "source": [
    "\n",
    "To remove multicollinearity\n",
    "\n",
    "1. Drop every column one by one that has a VIF score greater than 5.\n",
    "2. Look at the adjusted R-squared and RMSE of all these models.\n",
    "3. Drop the variable that makes the least change in adjusted R-squared.\n",
    "4. Check the VIF scores again.\n",
    "5. Continue till you get all VIF scores under 5.\n",
    "\n",
    "Let's define a function that will help us do this."
   ]
  },
  {
   "cell_type": "code",
   "execution_count": 243,
   "metadata": {
    "id": "93U9udWjKffT"
   },
   "outputs": [],
   "source": [
    "def treating_multicollinearity(predictors, target, high_vif_columns):\n",
    "    \"\"\"\n",
    "    Checking the effect of dropping the columns showing high multicollinearity\n",
    "    on model performance (adj. R-squared and RMSE)\n",
    "\n",
    "    predictors: independent variables\n",
    "    target: dependent variable\n",
    "    high_vif_columns: columns having high VIF\n",
    "    \"\"\"\n",
    "    # empty lists to store adj. R-squared and RMSE values\n",
    "    adj_r2 = []\n",
    "    rmse = []\n",
    "\n",
    "    # build ols models by dropping one of the high VIF columns at a time\n",
    "    # store the adjusted R-squared and RMSE in the lists defined previously\n",
    "    for cols in high_vif_columns:\n",
    "        # defining the new train set\n",
    "        train = predictors.loc[:, ~predictors.columns.str.startswith(cols)]\n",
    "\n",
    "        # create the model\n",
    "        olsmodel = sm.OLS(target, train).fit()\n",
    "\n",
    "        # adding adj. R-squared and RMSE to the lists\n",
    "        adj_r2.append(olsmodel.rsquared_adj)\n",
    "        rmse.append(np.sqrt(olsmodel.mse_resid))\n",
    "\n",
    "    # creating a dataframe for the results\n",
    "    temp = pd.DataFrame(\n",
    "        {\n",
    "            \"col\": high_vif_columns,\n",
    "            \"Adj. R-squared after_dropping col\": adj_r2,\n",
    "            \"RMSE after dropping col\": rmse,\n",
    "        }\n",
    "    ).sort_values(by=\"Adj. R-squared after_dropping col\", ascending=False)\n",
    "    temp.reset_index(drop=True, inplace=True)\n",
    "\n",
    "    return temp"
   ]
  },
  {
   "cell_type": "code",
   "execution_count": 247,
   "metadata": {
    "id": "r08PiCLiKffT"
   },
   "outputs": [
    {
     "data": {
      "text/html": [
       "<div>\n",
       "<style scoped>\n",
       "    .dataframe tbody tr th:only-of-type {\n",
       "        vertical-align: middle;\n",
       "    }\n",
       "\n",
       "    .dataframe tbody tr th {\n",
       "        vertical-align: top;\n",
       "    }\n",
       "\n",
       "    .dataframe thead th {\n",
       "        text-align: right;\n",
       "    }\n",
       "</style>\n",
       "<table border=\"1\" class=\"dataframe\">\n",
       "  <thead>\n",
       "    <tr style=\"text-align: right;\">\n",
       "      <th></th>\n",
       "      <th>col</th>\n",
       "      <th>Adj. R-squared after_dropping col</th>\n",
       "      <th>RMSE after dropping col</th>\n",
       "    </tr>\n",
       "  </thead>\n",
       "  <tbody>\n",
       "    <tr>\n",
       "      <th>0</th>\n",
       "      <td>screen_size</td>\n",
       "      <td>0.838381</td>\n",
       "      <td>0.234703</td>\n",
       "    </tr>\n",
       "    <tr>\n",
       "      <th>1</th>\n",
       "      <td>weight</td>\n",
       "      <td>0.838071</td>\n",
       "      <td>0.234928</td>\n",
       "    </tr>\n",
       "  </tbody>\n",
       "</table>\n",
       "</div>"
      ],
      "text/plain": [
       "           col  Adj. R-squared after_dropping col  RMSE after dropping col\n",
       "0  screen_size                           0.838381                 0.234703\n",
       "1       weight                           0.838071                 0.234928"
      ]
     },
     "execution_count": 247,
     "metadata": {},
     "output_type": "execute_result"
    }
   ],
   "source": [
    "col_list = ['screen_size','weight'] ##  the code to specify the columns with high VIF\n",
    "\n",
    "res = treating_multicollinearity(x_train, y_train, col_list) ## the code to check the effect on model performance after dropping specified columns from train data\n",
    "res"
   ]
  },
  {
   "cell_type": "code",
   "execution_count": 248,
   "metadata": {
    "id": "JDJlsR2dKffU"
   },
   "outputs": [
    {
     "name": "stdout",
     "output_type": "stream",
     "text": [
      "VIF after dropping  screen_size\n"
     ]
    },
    {
     "data": {
      "text/html": [
       "<div>\n",
       "<style scoped>\n",
       "    .dataframe tbody tr th:only-of-type {\n",
       "        vertical-align: middle;\n",
       "    }\n",
       "\n",
       "    .dataframe tbody tr th {\n",
       "        vertical-align: top;\n",
       "    }\n",
       "\n",
       "    .dataframe thead th {\n",
       "        text-align: right;\n",
       "    }\n",
       "</style>\n",
       "<table border=\"1\" class=\"dataframe\">\n",
       "  <thead>\n",
       "    <tr style=\"text-align: right;\">\n",
       "      <th></th>\n",
       "      <th>feature</th>\n",
       "      <th>VIF</th>\n",
       "    </tr>\n",
       "  </thead>\n",
       "  <tbody>\n",
       "    <tr>\n",
       "      <th>0</th>\n",
       "      <td>const</td>\n",
       "      <td>202.673906</td>\n",
       "    </tr>\n",
       "    <tr>\n",
       "      <th>1</th>\n",
       "      <td>main_camera_mp</td>\n",
       "      <td>2.281835</td>\n",
       "    </tr>\n",
       "    <tr>\n",
       "      <th>2</th>\n",
       "      <td>selfie_camera_mp</td>\n",
       "      <td>2.809009</td>\n",
       "    </tr>\n",
       "    <tr>\n",
       "      <th>3</th>\n",
       "      <td>int_memory</td>\n",
       "      <td>1.362043</td>\n",
       "    </tr>\n",
       "    <tr>\n",
       "      <th>4</th>\n",
       "      <td>ram</td>\n",
       "      <td>2.282350</td>\n",
       "    </tr>\n",
       "    <tr>\n",
       "      <th>5</th>\n",
       "      <td>battery</td>\n",
       "      <td>3.842989</td>\n",
       "    </tr>\n",
       "    <tr>\n",
       "      <th>6</th>\n",
       "      <td>weight</td>\n",
       "      <td>2.993855</td>\n",
       "    </tr>\n",
       "    <tr>\n",
       "      <th>7</th>\n",
       "      <td>days_used</td>\n",
       "      <td>2.648929</td>\n",
       "    </tr>\n",
       "    <tr>\n",
       "      <th>8</th>\n",
       "      <td>normalized_new_price</td>\n",
       "      <td>3.077650</td>\n",
       "    </tr>\n",
       "    <tr>\n",
       "      <th>9</th>\n",
       "      <td>years_since_release</td>\n",
       "      <td>4.730315</td>\n",
       "    </tr>\n",
       "    <tr>\n",
       "      <th>10</th>\n",
       "      <td>brand_name_Alcatel</td>\n",
       "      <td>3.405533</td>\n",
       "    </tr>\n",
       "    <tr>\n",
       "      <th>11</th>\n",
       "      <td>brand_name_Apple</td>\n",
       "      <td>13.000338</td>\n",
       "    </tr>\n",
       "    <tr>\n",
       "      <th>12</th>\n",
       "      <td>brand_name_Asus</td>\n",
       "      <td>3.326698</td>\n",
       "    </tr>\n",
       "    <tr>\n",
       "      <th>13</th>\n",
       "      <td>brand_name_BlackBerry</td>\n",
       "      <td>1.631042</td>\n",
       "    </tr>\n",
       "    <tr>\n",
       "      <th>14</th>\n",
       "      <td>brand_name_Celkon</td>\n",
       "      <td>1.774528</td>\n",
       "    </tr>\n",
       "    <tr>\n",
       "      <th>15</th>\n",
       "      <td>brand_name_Coolpad</td>\n",
       "      <td>1.467719</td>\n",
       "    </tr>\n",
       "    <tr>\n",
       "      <th>16</th>\n",
       "      <td>brand_name_Gionee</td>\n",
       "      <td>1.941437</td>\n",
       "    </tr>\n",
       "    <tr>\n",
       "      <th>17</th>\n",
       "      <td>brand_name_Google</td>\n",
       "      <td>1.319334</td>\n",
       "    </tr>\n",
       "    <tr>\n",
       "      <th>18</th>\n",
       "      <td>brand_name_HTC</td>\n",
       "      <td>3.399980</td>\n",
       "    </tr>\n",
       "    <tr>\n",
       "      <th>19</th>\n",
       "      <td>brand_name_Honor</td>\n",
       "      <td>3.340354</td>\n",
       "    </tr>\n",
       "    <tr>\n",
       "      <th>20</th>\n",
       "      <td>brand_name_Huawei</td>\n",
       "      <td>5.981046</td>\n",
       "    </tr>\n",
       "    <tr>\n",
       "      <th>21</th>\n",
       "      <td>brand_name_Infinix</td>\n",
       "      <td>1.283526</td>\n",
       "    </tr>\n",
       "    <tr>\n",
       "      <th>22</th>\n",
       "      <td>brand_name_Karbonn</td>\n",
       "      <td>1.573494</td>\n",
       "    </tr>\n",
       "    <tr>\n",
       "      <th>23</th>\n",
       "      <td>brand_name_LG</td>\n",
       "      <td>4.832548</td>\n",
       "    </tr>\n",
       "    <tr>\n",
       "      <th>24</th>\n",
       "      <td>brand_name_Lava</td>\n",
       "      <td>1.711092</td>\n",
       "    </tr>\n",
       "    <tr>\n",
       "      <th>25</th>\n",
       "      <td>brand_name_Lenovo</td>\n",
       "      <td>4.553789</td>\n",
       "    </tr>\n",
       "    <tr>\n",
       "      <th>26</th>\n",
       "      <td>brand_name_Meizu</td>\n",
       "      <td>2.176424</td>\n",
       "    </tr>\n",
       "    <tr>\n",
       "      <th>27</th>\n",
       "      <td>brand_name_Micromax</td>\n",
       "      <td>3.358629</td>\n",
       "    </tr>\n",
       "    <tr>\n",
       "      <th>28</th>\n",
       "      <td>brand_name_Microsoft</td>\n",
       "      <td>1.868243</td>\n",
       "    </tr>\n",
       "    <tr>\n",
       "      <th>29</th>\n",
       "      <td>brand_name_Motorola</td>\n",
       "      <td>3.262356</td>\n",
       "    </tr>\n",
       "    <tr>\n",
       "      <th>30</th>\n",
       "      <td>brand_name_Nokia</td>\n",
       "      <td>3.464643</td>\n",
       "    </tr>\n",
       "    <tr>\n",
       "      <th>31</th>\n",
       "      <td>brand_name_OnePlus</td>\n",
       "      <td>1.437004</td>\n",
       "    </tr>\n",
       "    <tr>\n",
       "      <th>32</th>\n",
       "      <td>brand_name_Oppo</td>\n",
       "      <td>3.965445</td>\n",
       "    </tr>\n",
       "    <tr>\n",
       "      <th>33</th>\n",
       "      <td>brand_name_Others</td>\n",
       "      <td>9.652572</td>\n",
       "    </tr>\n",
       "    <tr>\n",
       "      <th>34</th>\n",
       "      <td>brand_name_Panasonic</td>\n",
       "      <td>2.104853</td>\n",
       "    </tr>\n",
       "    <tr>\n",
       "      <th>35</th>\n",
       "      <td>brand_name_Realme</td>\n",
       "      <td>1.943845</td>\n",
       "    </tr>\n",
       "    <tr>\n",
       "      <th>36</th>\n",
       "      <td>brand_name_Samsung</td>\n",
       "      <td>7.523421</td>\n",
       "    </tr>\n",
       "    <tr>\n",
       "      <th>37</th>\n",
       "      <td>brand_name_Sony</td>\n",
       "      <td>2.937375</td>\n",
       "    </tr>\n",
       "    <tr>\n",
       "      <th>38</th>\n",
       "      <td>brand_name_Spice</td>\n",
       "      <td>1.683302</td>\n",
       "    </tr>\n",
       "    <tr>\n",
       "      <th>39</th>\n",
       "      <td>brand_name_Vivo</td>\n",
       "      <td>3.650625</td>\n",
       "    </tr>\n",
       "    <tr>\n",
       "      <th>40</th>\n",
       "      <td>brand_name_XOLO</td>\n",
       "      <td>2.137844</td>\n",
       "    </tr>\n",
       "    <tr>\n",
       "      <th>41</th>\n",
       "      <td>brand_name_Xiaomi</td>\n",
       "      <td>3.713988</td>\n",
       "    </tr>\n",
       "    <tr>\n",
       "      <th>42</th>\n",
       "      <td>brand_name_ZTE</td>\n",
       "      <td>3.788971</td>\n",
       "    </tr>\n",
       "    <tr>\n",
       "      <th>43</th>\n",
       "      <td>os_Others</td>\n",
       "      <td>1.625212</td>\n",
       "    </tr>\n",
       "    <tr>\n",
       "      <th>44</th>\n",
       "      <td>os_Windows</td>\n",
       "      <td>1.595936</td>\n",
       "    </tr>\n",
       "    <tr>\n",
       "      <th>45</th>\n",
       "      <td>os_iOS</td>\n",
       "      <td>11.678957</td>\n",
       "    </tr>\n",
       "    <tr>\n",
       "      <th>46</th>\n",
       "      <td>4g_yes</td>\n",
       "      <td>2.466915</td>\n",
       "    </tr>\n",
       "    <tr>\n",
       "      <th>47</th>\n",
       "      <td>5g_yes</td>\n",
       "      <td>1.810289</td>\n",
       "    </tr>\n",
       "  </tbody>\n",
       "</table>\n",
       "</div>"
      ],
      "text/plain": [
       "                  feature         VIF\n",
       "0                   const  202.673906\n",
       "1          main_camera_mp    2.281835\n",
       "2        selfie_camera_mp    2.809009\n",
       "3              int_memory    1.362043\n",
       "4                     ram    2.282350\n",
       "5                 battery    3.842989\n",
       "6                  weight    2.993855\n",
       "7               days_used    2.648929\n",
       "8    normalized_new_price    3.077650\n",
       "9     years_since_release    4.730315\n",
       "10     brand_name_Alcatel    3.405533\n",
       "11       brand_name_Apple   13.000338\n",
       "12        brand_name_Asus    3.326698\n",
       "13  brand_name_BlackBerry    1.631042\n",
       "14      brand_name_Celkon    1.774528\n",
       "15     brand_name_Coolpad    1.467719\n",
       "16      brand_name_Gionee    1.941437\n",
       "17      brand_name_Google    1.319334\n",
       "18         brand_name_HTC    3.399980\n",
       "19       brand_name_Honor    3.340354\n",
       "20      brand_name_Huawei    5.981046\n",
       "21     brand_name_Infinix    1.283526\n",
       "22     brand_name_Karbonn    1.573494\n",
       "23          brand_name_LG    4.832548\n",
       "24        brand_name_Lava    1.711092\n",
       "25      brand_name_Lenovo    4.553789\n",
       "26       brand_name_Meizu    2.176424\n",
       "27    brand_name_Micromax    3.358629\n",
       "28   brand_name_Microsoft    1.868243\n",
       "29    brand_name_Motorola    3.262356\n",
       "30       brand_name_Nokia    3.464643\n",
       "31     brand_name_OnePlus    1.437004\n",
       "32        brand_name_Oppo    3.965445\n",
       "33      brand_name_Others    9.652572\n",
       "34   brand_name_Panasonic    2.104853\n",
       "35      brand_name_Realme    1.943845\n",
       "36     brand_name_Samsung    7.523421\n",
       "37        brand_name_Sony    2.937375\n",
       "38       brand_name_Spice    1.683302\n",
       "39        brand_name_Vivo    3.650625\n",
       "40        brand_name_XOLO    2.137844\n",
       "41      brand_name_Xiaomi    3.713988\n",
       "42         brand_name_ZTE    3.788971\n",
       "43              os_Others    1.625212\n",
       "44             os_Windows    1.595936\n",
       "45                 os_iOS   11.678957\n",
       "46                 4g_yes    2.466915\n",
       "47                 5g_yes    1.810289"
      ]
     },
     "execution_count": 248,
     "metadata": {},
     "output_type": "execute_result"
    }
   ],
   "source": [
    "col_to_drop = 'screen_size' ## the code to specify the column to drop\n",
    "x_train2 = x_train.loc[:, ~x_train.columns.str.startswith(col_to_drop)] ## Complete the code to specify the train data from which to drop the column specified\n",
    "x_test2 = x_test.loc[:, ~x_test.columns.str.startswith(col_to_drop)] ## Complete the code to specify the test data from which to drop the column specified\n",
    "\n",
    "# Check VIF now\n",
    "vif = checking_vif(x_train2)\n",
    "print(\"VIF after dropping \", col_to_drop)\n",
    "vif"
   ]
  },
  {
   "cell_type": "markdown",
   "metadata": {
    "id": "j2hb9VujhmWL"
   },
   "source": [
    "### Dropping high p-value variables (if needed)\n",
    "\n",
    "- We will drop the predictor variables having a p-value greater than 0.05 as they do not significantly impact the target variable.\n",
    "- But sometimes p-values change after dropping a variable. So, we'll not drop all variables at once.\n",
    "- Instead, we will do the following:\n",
    "    - Build a model, check the p-values of the variables, and drop the column with the highest p-value.\n",
    "    - Create a new model without the dropped feature, check the p-values of the variables, and drop the column with the highest p-value.\n",
    "    - Repeat the above two steps till there are no columns with p-value > 0.05.\n",
    "\n",
    "The above process can also be done manually by picking one variable at a time that has a high p-value, dropping it, and building a model again. But that might be a little tedious and using a loop will be more efficient."
   ]
  },
  {
   "cell_type": "code",
   "execution_count": 249,
   "metadata": {
    "id": "kTFISTQlSy6K"
   },
   "outputs": [
    {
     "name": "stdout",
     "output_type": "stream",
     "text": [
      "['const', 'main_camera_mp', 'selfie_camera_mp', 'ram', 'weight', 'normalized_new_price', 'years_since_release', 'brand_name_Karbonn', 'brand_name_Samsung', 'brand_name_Sony', 'brand_name_Xiaomi', 'os_Others', 'os_iOS', '4g_yes', '5g_yes']\n"
     ]
    }
   ],
   "source": [
    "# initial list of columns\n",
    "predictors = x_train2.copy()  ## the code to check for p-values on the right dataset\n",
    "cols = predictors.columns.tolist()\n",
    "\n",
    "# setting an initial max p-value\n",
    "max_p_value = 1\n",
    "\n",
    "while len(cols) > 0:\n",
    "    # defining the train set\n",
    "    x_train_aux = predictors[cols]\n",
    "\n",
    "    # fitting the model\n",
    "    model = sm.OLS(y_train, x_train_aux).fit()\n",
    "\n",
    "    # getting the p-values and the maximum p-value\n",
    "    p_values = model.pvalues\n",
    "    max_p_value = max(p_values)\n",
    "\n",
    "    # name of the variable with maximum p-value\n",
    "    feature_with_p_max = p_values.idxmax()\n",
    "\n",
    "    if max_p_value > 0.05:\n",
    "        cols.remove(feature_with_p_max)\n",
    "    else:\n",
    "        break\n",
    "\n",
    "selected_features = cols\n",
    "print(selected_features)"
   ]
  },
  {
   "cell_type": "code",
   "execution_count": 256,
   "metadata": {
    "id": "p0CfofLchmWL"
   },
   "outputs": [],
   "source": [
    "x_train3 = x_train2[selected_features]  ## the code to specify the train data from which to select the specified columns\n",
    "x_test3 = x_test2[selected_features]  ##  the code to specify the test data from which to select the specified columns"
   ]
  },
  {
   "cell_type": "code",
   "execution_count": 257,
   "metadata": {
    "id": "qaaUG3jDhmWM"
   },
   "outputs": [
    {
     "name": "stdout",
     "output_type": "stream",
     "text": [
      "                              OLS Regression Results                             \n",
      "=================================================================================\n",
      "Dep. Variable:     normalized_used_price   R-squared:                       0.839\n",
      "Model:                               OLS   Adj. R-squared:                  0.838\n",
      "Method:                    Least Squares   F-statistic:                     895.7\n",
      "Date:                   Fri, 07 Oct 2022   Prob (F-statistic):               0.00\n",
      "Time:                           17:49:33   Log-Likelihood:                 80.645\n",
      "No. Observations:                   2417   AIC:                            -131.3\n",
      "Df Residuals:                       2402   BIC:                            -44.44\n",
      "Df Model:                             14                                         \n",
      "Covariance Type:               nonrobust                                         \n",
      "========================================================================================\n",
      "                           coef    std err          t      P>|t|      [0.025      0.975]\n",
      "----------------------------------------------------------------------------------------\n",
      "const                    1.5000      0.048     30.955      0.000       1.405       1.595\n",
      "main_camera_mp           0.0210      0.001     14.714      0.000       0.018       0.024\n",
      "selfie_camera_mp         0.0138      0.001     12.858      0.000       0.012       0.016\n",
      "ram                      0.0207      0.005      4.151      0.000       0.011       0.030\n",
      "weight                   0.0017      6e-05     27.672      0.000       0.002       0.002\n",
      "normalized_new_price     0.4415      0.011     39.337      0.000       0.419       0.463\n",
      "years_since_release     -0.0292      0.003     -8.589      0.000      -0.036      -0.023\n",
      "brand_name_Karbonn       0.1156      0.055      2.111      0.035       0.008       0.223\n",
      "brand_name_Samsung      -0.0374      0.016     -2.270      0.023      -0.070      -0.005\n",
      "brand_name_Sony         -0.0670      0.030     -2.197      0.028      -0.127      -0.007\n",
      "brand_name_Xiaomi        0.0801      0.026      3.114      0.002       0.030       0.130\n",
      "os_Others               -0.1276      0.027     -4.667      0.000      -0.181      -0.074\n",
      "os_iOS                  -0.0900      0.045     -1.994      0.046      -0.179      -0.002\n",
      "4g_yes                   0.0502      0.015      3.326      0.001       0.021       0.080\n",
      "5g_yes                  -0.0673      0.031     -2.194      0.028      -0.127      -0.007\n",
      "==============================================================================\n",
      "Omnibus:                      246.183   Durbin-Watson:                   1.902\n",
      "Prob(Omnibus):                  0.000   Jarque-Bera (JB):              483.879\n",
      "Skew:                          -0.658   Prob(JB):                    8.45e-106\n",
      "Kurtosis:                       4.753   Cond. No.                     2.39e+03\n",
      "==============================================================================\n",
      "\n",
      "Notes:\n",
      "[1] Standard Errors assume that the covariance matrix of the errors is correctly specified.\n",
      "[2] The condition number is large, 2.39e+03. This might indicate that there are\n",
      "strong multicollinearity or other numerical problems.\n"
     ]
    }
   ],
   "source": [
    "olsmodel2 = sm.OLS(y_train,x_train3).fit() ## the code fit OLS() on updated dataset (no multicollinearity and no insignificant predictors)\n",
    "print(olsmodel2.summary())"
   ]
  },
  {
   "cell_type": "code",
   "execution_count": 259,
   "metadata": {
    "id": "pgmwbtRXhmWM"
   },
   "outputs": [
    {
     "name": "stdout",
     "output_type": "stream",
     "text": [
      "Training Performance\n",
      "\n"
     ]
    },
    {
     "data": {
      "text/html": [
       "<div>\n",
       "<style scoped>\n",
       "    .dataframe tbody tr th:only-of-type {\n",
       "        vertical-align: middle;\n",
       "    }\n",
       "\n",
       "    .dataframe tbody tr th {\n",
       "        vertical-align: top;\n",
       "    }\n",
       "\n",
       "    .dataframe thead th {\n",
       "        text-align: right;\n",
       "    }\n",
       "</style>\n",
       "<table border=\"1\" class=\"dataframe\">\n",
       "  <thead>\n",
       "    <tr style=\"text-align: right;\">\n",
       "      <th></th>\n",
       "      <th>RMSE</th>\n",
       "      <th>MAE</th>\n",
       "      <th>R-squared</th>\n",
       "      <th>Adj. R-squared</th>\n",
       "      <th>MAPE</th>\n",
       "    </tr>\n",
       "  </thead>\n",
       "  <tbody>\n",
       "    <tr>\n",
       "      <th>0</th>\n",
       "      <td>0.23403</td>\n",
       "      <td>0.182751</td>\n",
       "      <td>0.83924</td>\n",
       "      <td>0.838235</td>\n",
       "      <td>4.395407</td>\n",
       "    </tr>\n",
       "  </tbody>\n",
       "</table>\n",
       "</div>"
      ],
      "text/plain": [
       "      RMSE       MAE  R-squared  Adj. R-squared      MAPE\n",
       "0  0.23403  0.182751    0.83924        0.838235  4.395407"
      ]
     },
     "execution_count": 259,
     "metadata": {},
     "output_type": "execute_result"
    }
   ],
   "source": [
    "# checking model performance on train set (seen 70% data)\n",
    "print(\"Training Performance\\n\")\n",
    "olsmodel2_train_perf = model_performance_regression(olsmodel2, x_train3,y_train) ##the code to check performance on train data\n",
    "olsmodel2_train_perf"
   ]
  },
  {
   "cell_type": "code",
   "execution_count": 265,
   "metadata": {
    "id": "-xMPZ9pRhmWM"
   },
   "outputs": [
    {
     "name": "stdout",
     "output_type": "stream",
     "text": [
      "Test Performance\n",
      "\n"
     ]
    },
    {
     "data": {
      "text/html": [
       "<div>\n",
       "<style scoped>\n",
       "    .dataframe tbody tr th:only-of-type {\n",
       "        vertical-align: middle;\n",
       "    }\n",
       "\n",
       "    .dataframe tbody tr th {\n",
       "        vertical-align: top;\n",
       "    }\n",
       "\n",
       "    .dataframe thead th {\n",
       "        text-align: right;\n",
       "    }\n",
       "</style>\n",
       "<table border=\"1\" class=\"dataframe\">\n",
       "  <thead>\n",
       "    <tr style=\"text-align: right;\">\n",
       "      <th></th>\n",
       "      <th>RMSE</th>\n",
       "      <th>MAE</th>\n",
       "      <th>R-squared</th>\n",
       "      <th>Adj. R-squared</th>\n",
       "      <th>MAPE</th>\n",
       "    </tr>\n",
       "  </thead>\n",
       "  <tbody>\n",
       "    <tr>\n",
       "      <th>0</th>\n",
       "      <td>0.241434</td>\n",
       "      <td>0.186649</td>\n",
       "      <td>0.838387</td>\n",
       "      <td>0.836013</td>\n",
       "      <td>4.556349</td>\n",
       "    </tr>\n",
       "  </tbody>\n",
       "</table>\n",
       "</div>"
      ],
      "text/plain": [
       "       RMSE       MAE  R-squared  Adj. R-squared      MAPE\n",
       "0  0.241434  0.186649   0.838387        0.836013  4.556349"
      ]
     },
     "execution_count": 265,
     "metadata": {},
     "output_type": "execute_result"
    }
   ],
   "source": [
    "# checking model performance on test set (seen 30% data)\n",
    "print(\"Test Performance\\n\")\n",
    "olsmodel2_test_perf = model_performance_regression(olsmodel2, x_test3, y_test) ## the code to check performance on test data\n",
    "olsmodel2_test_perf"
   ]
  },
  {
   "cell_type": "markdown",
   "metadata": {
    "id": "Ctk29PsRqH90"
   },
   "source": [
    "**Now we'll check the rest of the assumptions on *olsmod2*.**\n",
    "\n",
    "2. **Linearity of variables**\n",
    "\n",
    "3. **Independence of error terms**\n",
    "\n",
    "4. **Normality of error terms**\n",
    "\n",
    "5. **No Heteroscedasticity**"
   ]
  },
  {
   "cell_type": "markdown",
   "metadata": {
    "id": "ykvaeUZ-TkjD"
   },
   "source": [
    "### TEST FOR LINEARITY AND INDEPENDENCE\n"
   ]
  },
  {
   "cell_type": "markdown",
   "metadata": {
    "id": "MnOY6E5uqH-C"
   },
   "source": [
    "\n",
    "- We will test for linearity and independence by making a plot of fitted values vs residuals and checking for patterns.\n",
    "- If there is no pattern, then we say the model is linear and residuals are independent.\n",
    "- Otherwise, the model is showing signs of non-linearity and residuals are not independent."
   ]
  },
  {
   "cell_type": "code",
   "execution_count": 266,
   "metadata": {
    "id": "aNkYG_qihmWM"
   },
   "outputs": [
    {
     "data": {
      "text/html": [
       "<div>\n",
       "<style scoped>\n",
       "    .dataframe tbody tr th:only-of-type {\n",
       "        vertical-align: middle;\n",
       "    }\n",
       "\n",
       "    .dataframe tbody tr th {\n",
       "        vertical-align: top;\n",
       "    }\n",
       "\n",
       "    .dataframe thead th {\n",
       "        text-align: right;\n",
       "    }\n",
       "</style>\n",
       "<table border=\"1\" class=\"dataframe\">\n",
       "  <thead>\n",
       "    <tr style=\"text-align: right;\">\n",
       "      <th></th>\n",
       "      <th>Actual Values</th>\n",
       "      <th>Fitted Values</th>\n",
       "      <th>Residuals</th>\n",
       "    </tr>\n",
       "  </thead>\n",
       "  <tbody>\n",
       "    <tr>\n",
       "      <th>3026</th>\n",
       "      <td>4.087488</td>\n",
       "      <td>3.867319</td>\n",
       "      <td>0.220169</td>\n",
       "    </tr>\n",
       "    <tr>\n",
       "      <th>1525</th>\n",
       "      <td>4.448399</td>\n",
       "      <td>4.602001</td>\n",
       "      <td>-0.153602</td>\n",
       "    </tr>\n",
       "    <tr>\n",
       "      <th>1128</th>\n",
       "      <td>4.315353</td>\n",
       "      <td>4.286957</td>\n",
       "      <td>0.028395</td>\n",
       "    </tr>\n",
       "    <tr>\n",
       "      <th>3003</th>\n",
       "      <td>4.282068</td>\n",
       "      <td>4.195169</td>\n",
       "      <td>0.086899</td>\n",
       "    </tr>\n",
       "    <tr>\n",
       "      <th>2907</th>\n",
       "      <td>4.456438</td>\n",
       "      <td>4.490563</td>\n",
       "      <td>-0.034125</td>\n",
       "    </tr>\n",
       "  </tbody>\n",
       "</table>\n",
       "</div>"
      ],
      "text/plain": [
       "      Actual Values  Fitted Values  Residuals\n",
       "3026       4.087488       3.867319   0.220169\n",
       "1525       4.448399       4.602001  -0.153602\n",
       "1128       4.315353       4.286957   0.028395\n",
       "3003       4.282068       4.195169   0.086899\n",
       "2907       4.456438       4.490563  -0.034125"
      ]
     },
     "execution_count": 266,
     "metadata": {},
     "output_type": "execute_result"
    }
   ],
   "source": [
    "# let us create a dataframe with actual, fitted and residual values\n",
    "df_pred = pd.DataFrame()\n",
    "\n",
    "df_pred[\"Actual Values\"] = y_train  # actual values\n",
    "df_pred[\"Fitted Values\"] = olsmodel2.fittedvalues  # predicted values\n",
    "df_pred[\"Residuals\"] = olsmodel2.resid  # residuals\n",
    "\n",
    "df_pred.head()"
   ]
  },
  {
   "cell_type": "code",
   "execution_count": 267,
   "metadata": {
    "id": "NJ4ivHQiqH-G"
   },
   "outputs": [
    {
     "data": {
      "image/png": "[encoded data removed]",
      "text/plain": [
       "<Figure size 432x288 with 1 Axes>"
      ]
     },
     "metadata": {},
     "output_type": "display_data"
    }
   ],
   "source": [
    "# let's plot the fitted values vs residuals\n",
    "\n",
    "sns.residplot(\n",
    "    data=df_pred, x=\"Fitted Values\", y=\"Residuals\", color=\"purple\", lowess=True\n",
    ")\n",
    "plt.xlabel(\"Fitted Values\")\n",
    "plt.ylabel(\"Residuals\")\n",
    "plt.title(\"Fitted vs Residual plot\")\n",
    "plt.show()"
   ]
  },
  {
   "cell_type": "markdown",
   "metadata": {
    "id": "VOxf_qsQqH-N"
   },
   "source": [
    "### TEST FOR NORMALITY\n",
    "\n",
    "- We will test for normality by checking the distribution of residuals, by checking the Q-Q plot of residuals, and by using the Shapiro-Wilk test.\n",
    "- If the residuals follow a normal distribution, they will make a straight line plot, otherwise not.\n",
    "- If the p-value of the Shapiro-Wilk test is greater than 0.05, we can say the residuals are normally distributed."
   ]
  },
  {
   "cell_type": "code",
   "execution_count": 268,
   "metadata": {
    "id": "MUdQ6XJLqH-N"
   },
   "outputs": [
    {
     "data": {
      "image/png": "[encoded data removed]",
      "text/plain": [
       "<Figure size 432x288 with 1 Axes>"
      ]
     },
     "metadata": {},
     "output_type": "display_data"
    }
   ],
   "source": [
    "sns.histplot(data=df_pred, x = 'Residuals', kde = True) ##  the code to plot the distribution of residuals\n",
    "plt.title(\"Normality of residuals\")\n",
    "plt.show()"
   ]
  },
  {
   "cell_type": "code",
   "execution_count": 269,
   "metadata": {
    "id": "Wj8y7-1nqH-Q"
   },
   "outputs": [
    {
     "data": {
      "image/png": "[encoded data removed]",
      "text/plain": [
       "<Figure size 432x288 with 1 Axes>"
      ]
     },
     "metadata": {},
     "output_type": "display_data"
    }
   ],
   "source": [
    "import pylab\n",
    "import scipy.stats as stats\n",
    "\n",
    "stats.probplot(df_pred['Residuals'], dist=\"norm\", plot=pylab) ## the code check Q-Q plot\n",
    "plt.show()"
   ]
  },
  {
   "cell_type": "code",
   "execution_count": 270,
   "metadata": {
    "id": "b1LIATpBqH-U"
   },
   "outputs": [
    {
     "data": {
      "text/plain": [
       "ShapiroResult(statistic=0.9676972031593323, pvalue=6.995328206686811e-23)"
      ]
     },
     "execution_count": 270,
     "metadata": {},
     "output_type": "execute_result"
    }
   ],
   "source": [
    "stats.shapiro(df_pred['Residuals']) ##  the code to apply the Shapiro-Wilks test"
   ]
  },
  {
   "cell_type": "markdown",
   "metadata": {
    "id": "FTnuLaLBXvdR"
   },
   "source": [
    "### TEST FOR HOMOSCEDASTICITY\n"
   ]
  },
  {
   "cell_type": "markdown",
   "metadata": {
    "id": "6gZ4GKY_qH-Z"
   },
   "source": [
    "\n",
    "- We will test for homoscedasticity by using the goldfeldquandt test.\n",
    "- If we get a p-value greater than 0.05, we can say that the residuals are homoscedastic. Otherwise, they are heteroscedastic."
   ]
  },
  {
   "cell_type": "code",
   "execution_count": 272,
   "metadata": {
    "id": "naX-iXItqH-b"
   },
   "outputs": [
    {
     "data": {
      "text/plain": [
       "[('F statistic', 1.0087504199106763), ('p-value', 0.4401970650667071)]"
      ]
     },
     "execution_count": 272,
     "metadata": {},
     "output_type": "execute_result"
    }
   ],
   "source": [
    "import statsmodels.stats.api as sms\n",
    "from statsmodels.compat import lzip\n",
    "\n",
    "name = [\"F statistic\", \"p-value\"]\n",
    "test = sms.het_goldfeldquandt(df_pred[\"Residuals\"], x_train3) ## Complete the code with the right train data to apply the Goldfeldquandt test\n",
    "lzip(name, test)"
   ]
  },
  {
   "cell_type": "code",
   "execution_count": null,
   "metadata": {},
   "outputs": [],
   "source": []
  },
  {
   "cell_type": "markdown",
   "metadata": {},
   "source": [
    "# Checking Predictions on the Test Test"
   ]
  },
  {
   "cell_type": "code",
   "execution_count": 277,
   "metadata": {},
   "outputs": [
    {
     "data": {
      "text/html": [
       "<div>\n",
       "<style scoped>\n",
       "    .dataframe tbody tr th:only-of-type {\n",
       "        vertical-align: middle;\n",
       "    }\n",
       "\n",
       "    .dataframe tbody tr th {\n",
       "        vertical-align: top;\n",
       "    }\n",
       "\n",
       "    .dataframe thead th {\n",
       "        text-align: right;\n",
       "    }\n",
       "</style>\n",
       "<table border=\"1\" class=\"dataframe\">\n",
       "  <thead>\n",
       "    <tr style=\"text-align: right;\">\n",
       "      <th></th>\n",
       "      <th>Actual</th>\n",
       "      <th>Predicted</th>\n",
       "    </tr>\n",
       "  </thead>\n",
       "  <tbody>\n",
       "    <tr>\n",
       "      <th>1995</th>\n",
       "      <td>4.566741</td>\n",
       "      <td>4.385671</td>\n",
       "    </tr>\n",
       "    <tr>\n",
       "      <th>2341</th>\n",
       "      <td>3.696103</td>\n",
       "      <td>4.003934</td>\n",
       "    </tr>\n",
       "    <tr>\n",
       "      <th>1913</th>\n",
       "      <td>3.592093</td>\n",
       "      <td>3.643812</td>\n",
       "    </tr>\n",
       "    <tr>\n",
       "      <th>688</th>\n",
       "      <td>4.306495</td>\n",
       "      <td>4.103463</td>\n",
       "    </tr>\n",
       "    <tr>\n",
       "      <th>650</th>\n",
       "      <td>4.522115</td>\n",
       "      <td>5.113026</td>\n",
       "    </tr>\n",
       "    <tr>\n",
       "      <th>2291</th>\n",
       "      <td>4.259294</td>\n",
       "      <td>4.398406</td>\n",
       "    </tr>\n",
       "    <tr>\n",
       "      <th>40</th>\n",
       "      <td>4.997685</td>\n",
       "      <td>5.459871</td>\n",
       "    </tr>\n",
       "    <tr>\n",
       "      <th>1884</th>\n",
       "      <td>3.875359</td>\n",
       "      <td>4.053143</td>\n",
       "    </tr>\n",
       "    <tr>\n",
       "      <th>2538</th>\n",
       "      <td>4.206631</td>\n",
       "      <td>4.035868</td>\n",
       "    </tr>\n",
       "    <tr>\n",
       "      <th>45</th>\n",
       "      <td>5.380450</td>\n",
       "      <td>5.227899</td>\n",
       "    </tr>\n",
       "  </tbody>\n",
       "</table>\n",
       "</div>"
      ],
      "text/plain": [
       "        Actual  Predicted\n",
       "1995  4.566741   4.385671\n",
       "2341  3.696103   4.003934\n",
       "1913  3.592093   3.643812\n",
       "688   4.306495   4.103463\n",
       "650   4.522115   5.113026\n",
       "2291  4.259294   4.398406\n",
       "40    4.997685   5.459871\n",
       "1884  3.875359   4.053143\n",
       "2538  4.206631   4.035868\n",
       "45    5.380450   5.227899"
      ]
     },
     "execution_count": 277,
     "metadata": {},
     "output_type": "execute_result"
    }
   ],
   "source": [
    "#Test set predictions\n",
    "pred = olsmodel2.predict(x_test3)\n",
    "df_pred_test = pd.DataFrame({'Actual': y_test, 'Predicted': pred}) \n",
    "df_pred_test.sample(10, random_state = 1)"
   ]
  },
  {
   "cell_type": "code",
   "execution_count": null,
   "metadata": {},
   "outputs": [],
   "source": []
  },
  {
   "cell_type": "code",
   "execution_count": null,
   "metadata": {},
   "outputs": [],
   "source": []
  },
  {
   "cell_type": "markdown",
   "metadata": {},
   "source": [
    "# Final Model\n"
   ]
  },
  {
   "cell_type": "code",
   "execution_count": 279,
   "metadata": {},
   "outputs": [],
   "source": [
    "x_train_final = x_train3.copy()\n",
    "x_test_final = x_test3.copy()"
   ]
  },
  {
   "cell_type": "markdown",
   "metadata": {
    "id": "aIjiQ1NghmWN"
   },
   "source": [
    "## Final Model Summary"
   ]
  },
  {
   "cell_type": "code",
   "execution_count": 280,
   "metadata": {
    "id": "x_Sqvs4TMKtn"
   },
   "outputs": [
    {
     "name": "stdout",
     "output_type": "stream",
     "text": [
      "                              OLS Regression Results                             \n",
      "=================================================================================\n",
      "Dep. Variable:     normalized_used_price   R-squared:                       0.839\n",
      "Model:                               OLS   Adj. R-squared:                  0.838\n",
      "Method:                    Least Squares   F-statistic:                     895.7\n",
      "Date:                   Fri, 07 Oct 2022   Prob (F-statistic):               0.00\n",
      "Time:                           18:26:55   Log-Likelihood:                 80.645\n",
      "No. Observations:                   2417   AIC:                            -131.3\n",
      "Df Residuals:                       2402   BIC:                            -44.44\n",
      "Df Model:                             14                                         \n",
      "Covariance Type:               nonrobust                                         \n",
      "========================================================================================\n",
      "                           coef    std err          t      P>|t|      [0.025      0.975]\n",
      "----------------------------------------------------------------------------------------\n",
      "const                    1.5000      0.048     30.955      0.000       1.405       1.595\n",
      "main_camera_mp           0.0210      0.001     14.714      0.000       0.018       0.024\n",
      "selfie_camera_mp         0.0138      0.001     12.858      0.000       0.012       0.016\n",
      "ram                      0.0207      0.005      4.151      0.000       0.011       0.030\n",
      "weight                   0.0017      6e-05     27.672      0.000       0.002       0.002\n",
      "normalized_new_price     0.4415      0.011     39.337      0.000       0.419       0.463\n",
      "years_since_release     -0.0292      0.003     -8.589      0.000      -0.036      -0.023\n",
      "brand_name_Karbonn       0.1156      0.055      2.111      0.035       0.008       0.223\n",
      "brand_name_Samsung      -0.0374      0.016     -2.270      0.023      -0.070      -0.005\n",
      "brand_name_Sony         -0.0670      0.030     -2.197      0.028      -0.127      -0.007\n",
      "brand_name_Xiaomi        0.0801      0.026      3.114      0.002       0.030       0.130\n",
      "os_Others               -0.1276      0.027     -4.667      0.000      -0.181      -0.074\n",
      "os_iOS                  -0.0900      0.045     -1.994      0.046      -0.179      -0.002\n",
      "4g_yes                   0.0502      0.015      3.326      0.001       0.021       0.080\n",
      "5g_yes                  -0.0673      0.031     -2.194      0.028      -0.127      -0.007\n",
      "==============================================================================\n",
      "Omnibus:                      246.183   Durbin-Watson:                   1.902\n",
      "Prob(Omnibus):                  0.000   Jarque-Bera (JB):              483.879\n",
      "Skew:                          -0.658   Prob(JB):                    8.45e-106\n",
      "Kurtosis:                       4.753   Cond. No.                     2.39e+03\n",
      "==============================================================================\n",
      "\n",
      "Notes:\n",
      "[1] Standard Errors assume that the covariance matrix of the errors is correctly specified.\n",
      "[2] The condition number is large, 2.39e+03. This might indicate that there are\n",
      "strong multicollinearity or other numerical problems.\n"
     ]
    }
   ],
   "source": [
    "olsmodel_final = sm.OLS(y_train,x_train_final).fit() ##  the code to fit the final model\n",
    "print(olsmodel_final.summary())"
   ]
  },
  {
   "cell_type": "code",
   "execution_count": 281,
   "metadata": {
    "id": "4KbUJPfhhmWN"
   },
   "outputs": [
    {
     "name": "stdout",
     "output_type": "stream",
     "text": [
      "Training Performance\n",
      "\n"
     ]
    },
    {
     "data": {
      "text/html": [
       "<div>\n",
       "<style scoped>\n",
       "    .dataframe tbody tr th:only-of-type {\n",
       "        vertical-align: middle;\n",
       "    }\n",
       "\n",
       "    .dataframe tbody tr th {\n",
       "        vertical-align: top;\n",
       "    }\n",
       "\n",
       "    .dataframe thead th {\n",
       "        text-align: right;\n",
       "    }\n",
       "</style>\n",
       "<table border=\"1\" class=\"dataframe\">\n",
       "  <thead>\n",
       "    <tr style=\"text-align: right;\">\n",
       "      <th></th>\n",
       "      <th>RMSE</th>\n",
       "      <th>MAE</th>\n",
       "      <th>R-squared</th>\n",
       "      <th>Adj. R-squared</th>\n",
       "      <th>MAPE</th>\n",
       "    </tr>\n",
       "  </thead>\n",
       "  <tbody>\n",
       "    <tr>\n",
       "      <th>0</th>\n",
       "      <td>0.23403</td>\n",
       "      <td>0.182751</td>\n",
       "      <td>0.83924</td>\n",
       "      <td>0.838235</td>\n",
       "      <td>4.395407</td>\n",
       "    </tr>\n",
       "  </tbody>\n",
       "</table>\n",
       "</div>"
      ],
      "text/plain": [
       "      RMSE       MAE  R-squared  Adj. R-squared      MAPE\n",
       "0  0.23403  0.182751    0.83924        0.838235  4.395407"
      ]
     },
     "execution_count": 281,
     "metadata": {},
     "output_type": "execute_result"
    }
   ],
   "source": [
    "# checking model performance on train set (seen 70% data)\n",
    "print(\"Training Performance\\n\")\n",
    "olsmodel_final_train_perf = model_performance_regression(olsmodel_final, x_train_final,y_train) ## the code to check the performance on train data\n",
    "olsmodel_final_train_perf"
   ]
  },
  {
   "cell_type": "code",
   "execution_count": 283,
   "metadata": {
    "id": "T-WL13KBhmWN"
   },
   "outputs": [
    {
     "name": "stdout",
     "output_type": "stream",
     "text": [
      "Test Performance\n",
      "\n"
     ]
    },
    {
     "data": {
      "text/html": [
       "<div>\n",
       "<style scoped>\n",
       "    .dataframe tbody tr th:only-of-type {\n",
       "        vertical-align: middle;\n",
       "    }\n",
       "\n",
       "    .dataframe tbody tr th {\n",
       "        vertical-align: top;\n",
       "    }\n",
       "\n",
       "    .dataframe thead th {\n",
       "        text-align: right;\n",
       "    }\n",
       "</style>\n",
       "<table border=\"1\" class=\"dataframe\">\n",
       "  <thead>\n",
       "    <tr style=\"text-align: right;\">\n",
       "      <th></th>\n",
       "      <th>RMSE</th>\n",
       "      <th>MAE</th>\n",
       "      <th>R-squared</th>\n",
       "      <th>Adj. R-squared</th>\n",
       "      <th>MAPE</th>\n",
       "    </tr>\n",
       "  </thead>\n",
       "  <tbody>\n",
       "    <tr>\n",
       "      <th>0</th>\n",
       "      <td>0.241434</td>\n",
       "      <td>0.186649</td>\n",
       "      <td>0.838387</td>\n",
       "      <td>0.836013</td>\n",
       "      <td>4.556349</td>\n",
       "    </tr>\n",
       "  </tbody>\n",
       "</table>\n",
       "</div>"
      ],
      "text/plain": [
       "       RMSE       MAE  R-squared  Adj. R-squared      MAPE\n",
       "0  0.241434  0.186649   0.838387        0.836013  4.556349"
      ]
     },
     "execution_count": 283,
     "metadata": {},
     "output_type": "execute_result"
    }
   ],
   "source": [
    "# checking model performance on test set (seen 30% data)\n",
    "print(\"Test Performance\\n\")\n",
    "olsmodel_final_test_perf = model_performance_regression(olsmodel_final, x_test_final,y_test) ## Complete the code to check performance on test data\n",
    "olsmodel_final_test_perf"
   ]
  },
  {
   "cell_type": "markdown",
   "metadata": {
    "id": "2BkZh6eHluZK"
   },
   "source": [
    "##  Actionable Insights and Recommendations"
   ]
  },
  {
   "cell_type": "markdown",
   "metadata": {
    "id": "pj1rya_NXY-y"
   },
   "source": [
    "- \n"
   ]
  },
  {
   "cell_type": "markdown",
   "metadata": {
    "id": "W9V-w49_ULvd"
   },
   "source": [
    "---------"
   ]
  }
 ],
 "metadata": {
  "colab": {
   "collapsed_sections": [
    "W_Ho8VGKDu3S",
    "v_-uuGqH-qTt",
    "xxhpZv9y-qTw",
    "aodMV5D3-qTy",
    "qlzqMR1K-qTz",
    "KQi5ygTC-qT1",
    "5TcqcxbK-qT3",
    "nUCorhch-qT4",
    "xNr4bWoM-qT5",
    "Ch_TjRfF-qT5",
    "DhPuzWO7hmV8",
    "uxiNWC9JhmV8",
    "Ga_huJrnhmWE",
    "sbDJ_Vl8hmWI",
    "9Jnj657ShmWI",
    "OPB6dxxmWq1s",
    "4jUrmT40Wx7M",
    "QChrTYFaKvTk",
    "1JsqBJEohmWK",
    "9dgIbf7ALlYm",
    "a9GxSQf-qH8e",
    "SB4GanGWSOBT",
    "ulUc-ceISeyu",
    "j2hb9VujhmWL",
    "ykvaeUZ-TkjD",
    "VOxf_qsQqH-N",
    "FTnuLaLBXvdR",
    "aIjiQ1NghmWN",
    "2BkZh6eHluZK"
   ],
   "name": "SLF_Project_LearnerNotebook_LowCode.ipynb",
   "provenance": []
  },
  "kernelspec": {
   "display_name": "Python 3 (ipykernel)",
   "language": "python",
   "name": "python3"
  },
  "language_info": {
   "codemirror_mode": {
    "name": "ipython",
    "version": 3
   },
   "file_extension": ".py",
   "mimetype": "text/x-python",
   "name": "python",
   "nbconvert_exporter": "python",
   "pygments_lexer": "ipython3",
   "version": "3.9.12"
  }
 },
 "nbformat": 4,
 "nbformat_minor": 1
}
